{
  "nbformat": 4,
  "nbformat_minor": 0,
  "metadata": {
    "colab": {
      "name": "Test, training, FE.ipynb",
      "provenance": [],
      "include_colab_link": true
    },
    "kernelspec": {
      "name": "python3",
      "display_name": "Python 3"
    },
    "language_info": {
      "name": "python"
    },
    "widgets": {
      "application/vnd.jupyter.widget-state+json": {
        "a0400cc8c74a4de8893eba07dcc77657": {
          "model_module": "@jupyter-widgets/controls",
          "model_name": "HBoxModel",
          "model_module_version": "1.5.0",
          "state": {
            "_view_name": "HBoxView",
            "_dom_classes": [],
            "_model_name": "HBoxModel",
            "_view_module": "@jupyter-widgets/controls",
            "_model_module_version": "1.5.0",
            "_view_count": null,
            "_view_module_version": "1.5.0",
            "box_style": "",
            "layout": "IPY_MODEL_54952cb4ed5b430aa0d3310a1f63ce50",
            "_model_module": "@jupyter-widgets/controls",
            "children": [
              "IPY_MODEL_655b1102ad8d4922990434e300c6ce3e",
              "IPY_MODEL_43737e8746ef4cdf9005fd21a3c8e59c",
              "IPY_MODEL_50f7afd1160b468c803ec8d0e1065333"
            ]
          }
        },
        "54952cb4ed5b430aa0d3310a1f63ce50": {
          "model_module": "@jupyter-widgets/base",
          "model_name": "LayoutModel",
          "model_module_version": "1.2.0",
          "state": {
            "_view_name": "LayoutView",
            "grid_template_rows": null,
            "right": null,
            "justify_content": null,
            "_view_module": "@jupyter-widgets/base",
            "overflow": null,
            "_model_module_version": "1.2.0",
            "_view_count": null,
            "flex_flow": null,
            "width": null,
            "min_width": null,
            "border": null,
            "align_items": null,
            "bottom": null,
            "_model_module": "@jupyter-widgets/base",
            "top": null,
            "grid_column": null,
            "overflow_y": null,
            "overflow_x": null,
            "grid_auto_flow": null,
            "grid_area": null,
            "grid_template_columns": null,
            "flex": null,
            "_model_name": "LayoutModel",
            "justify_items": null,
            "grid_row": null,
            "max_height": null,
            "align_content": null,
            "visibility": null,
            "align_self": null,
            "height": null,
            "min_height": null,
            "padding": null,
            "grid_auto_rows": null,
            "grid_gap": null,
            "max_width": null,
            "order": null,
            "_view_module_version": "1.2.0",
            "grid_template_areas": null,
            "object_position": null,
            "object_fit": null,
            "grid_auto_columns": null,
            "margin": null,
            "display": null,
            "left": null
          }
        },
        "655b1102ad8d4922990434e300c6ce3e": {
          "model_module": "@jupyter-widgets/controls",
          "model_name": "HTMLModel",
          "model_module_version": "1.5.0",
          "state": {
            "_view_name": "HTMLView",
            "style": "IPY_MODEL_0eb5c7f700bc4c9dbcc22d329f81d303",
            "_dom_classes": [],
            "description": "",
            "_model_name": "HTMLModel",
            "placeholder": "​",
            "_view_module": "@jupyter-widgets/controls",
            "_model_module_version": "1.5.0",
            "value": "Optimization Progress: 100%",
            "_view_count": null,
            "_view_module_version": "1.5.0",
            "description_tooltip": null,
            "_model_module": "@jupyter-widgets/controls",
            "layout": "IPY_MODEL_669b906af9424aef916fc5672ea2b87f"
          }
        },
        "43737e8746ef4cdf9005fd21a3c8e59c": {
          "model_module": "@jupyter-widgets/controls",
          "model_name": "FloatProgressModel",
          "model_module_version": "1.5.0",
          "state": {
            "_view_name": "ProgressView",
            "style": "IPY_MODEL_3b4f2b0a30444900ad39ff276cd9d5f9",
            "_dom_classes": [],
            "description": "",
            "_model_name": "FloatProgressModel",
            "bar_style": "",
            "max": 300,
            "_view_module": "@jupyter-widgets/controls",
            "_model_module_version": "1.5.0",
            "value": 300,
            "_view_count": null,
            "_view_module_version": "1.5.0",
            "orientation": "horizontal",
            "min": 0,
            "description_tooltip": null,
            "_model_module": "@jupyter-widgets/controls",
            "layout": "IPY_MODEL_701349d92e3b4d109b7334fd921fe675"
          }
        },
        "50f7afd1160b468c803ec8d0e1065333": {
          "model_module": "@jupyter-widgets/controls",
          "model_name": "HTMLModel",
          "model_module_version": "1.5.0",
          "state": {
            "_view_name": "HTMLView",
            "style": "IPY_MODEL_e8e63ea05502486590fa1e0ce48d84c9",
            "_dom_classes": [],
            "description": "",
            "_model_name": "HTMLModel",
            "placeholder": "​",
            "_view_module": "@jupyter-widgets/controls",
            "_model_module_version": "1.5.0",
            "value": " 300/300 [03:23&lt;00:00,  2.20pipeline/s]",
            "_view_count": null,
            "_view_module_version": "1.5.0",
            "description_tooltip": null,
            "_model_module": "@jupyter-widgets/controls",
            "layout": "IPY_MODEL_9e06737645fd4934a86f63cc9995d6e1"
          }
        },
        "0eb5c7f700bc4c9dbcc22d329f81d303": {
          "model_module": "@jupyter-widgets/controls",
          "model_name": "DescriptionStyleModel",
          "model_module_version": "1.5.0",
          "state": {
            "_view_name": "StyleView",
            "_model_name": "DescriptionStyleModel",
            "description_width": "",
            "_view_module": "@jupyter-widgets/base",
            "_model_module_version": "1.5.0",
            "_view_count": null,
            "_view_module_version": "1.2.0",
            "_model_module": "@jupyter-widgets/controls"
          }
        },
        "669b906af9424aef916fc5672ea2b87f": {
          "model_module": "@jupyter-widgets/base",
          "model_name": "LayoutModel",
          "model_module_version": "1.2.0",
          "state": {
            "_view_name": "LayoutView",
            "grid_template_rows": null,
            "right": null,
            "justify_content": null,
            "_view_module": "@jupyter-widgets/base",
            "overflow": null,
            "_model_module_version": "1.2.0",
            "_view_count": null,
            "flex_flow": null,
            "width": null,
            "min_width": null,
            "border": null,
            "align_items": null,
            "bottom": null,
            "_model_module": "@jupyter-widgets/base",
            "top": null,
            "grid_column": null,
            "overflow_y": null,
            "overflow_x": null,
            "grid_auto_flow": null,
            "grid_area": null,
            "grid_template_columns": null,
            "flex": null,
            "_model_name": "LayoutModel",
            "justify_items": null,
            "grid_row": null,
            "max_height": null,
            "align_content": null,
            "visibility": null,
            "align_self": null,
            "height": null,
            "min_height": null,
            "padding": null,
            "grid_auto_rows": null,
            "grid_gap": null,
            "max_width": null,
            "order": null,
            "_view_module_version": "1.2.0",
            "grid_template_areas": null,
            "object_position": null,
            "object_fit": null,
            "grid_auto_columns": null,
            "margin": null,
            "display": null,
            "left": null
          }
        },
        "3b4f2b0a30444900ad39ff276cd9d5f9": {
          "model_module": "@jupyter-widgets/controls",
          "model_name": "ProgressStyleModel",
          "model_module_version": "1.5.0",
          "state": {
            "_view_name": "StyleView",
            "_model_name": "ProgressStyleModel",
            "description_width": "",
            "_view_module": "@jupyter-widgets/base",
            "_model_module_version": "1.5.0",
            "_view_count": null,
            "_view_module_version": "1.2.0",
            "bar_color": null,
            "_model_module": "@jupyter-widgets/controls"
          }
        },
        "701349d92e3b4d109b7334fd921fe675": {
          "model_module": "@jupyter-widgets/base",
          "model_name": "LayoutModel",
          "model_module_version": "1.2.0",
          "state": {
            "_view_name": "LayoutView",
            "grid_template_rows": null,
            "right": null,
            "justify_content": null,
            "_view_module": "@jupyter-widgets/base",
            "overflow": null,
            "_model_module_version": "1.2.0",
            "_view_count": null,
            "flex_flow": null,
            "width": null,
            "min_width": null,
            "border": null,
            "align_items": null,
            "bottom": null,
            "_model_module": "@jupyter-widgets/base",
            "top": null,
            "grid_column": null,
            "overflow_y": null,
            "overflow_x": null,
            "grid_auto_flow": null,
            "grid_area": null,
            "grid_template_columns": null,
            "flex": null,
            "_model_name": "LayoutModel",
            "justify_items": null,
            "grid_row": null,
            "max_height": null,
            "align_content": null,
            "visibility": null,
            "align_self": null,
            "height": null,
            "min_height": null,
            "padding": null,
            "grid_auto_rows": null,
            "grid_gap": null,
            "max_width": null,
            "order": null,
            "_view_module_version": "1.2.0",
            "grid_template_areas": null,
            "object_position": null,
            "object_fit": null,
            "grid_auto_columns": null,
            "margin": null,
            "display": null,
            "left": null
          }
        },
        "e8e63ea05502486590fa1e0ce48d84c9": {
          "model_module": "@jupyter-widgets/controls",
          "model_name": "DescriptionStyleModel",
          "model_module_version": "1.5.0",
          "state": {
            "_view_name": "StyleView",
            "_model_name": "DescriptionStyleModel",
            "description_width": "",
            "_view_module": "@jupyter-widgets/base",
            "_model_module_version": "1.5.0",
            "_view_count": null,
            "_view_module_version": "1.2.0",
            "_model_module": "@jupyter-widgets/controls"
          }
        },
        "9e06737645fd4934a86f63cc9995d6e1": {
          "model_module": "@jupyter-widgets/base",
          "model_name": "LayoutModel",
          "model_module_version": "1.2.0",
          "state": {
            "_view_name": "LayoutView",
            "grid_template_rows": null,
            "right": null,
            "justify_content": null,
            "_view_module": "@jupyter-widgets/base",
            "overflow": null,
            "_model_module_version": "1.2.0",
            "_view_count": null,
            "flex_flow": null,
            "width": null,
            "min_width": null,
            "border": null,
            "align_items": null,
            "bottom": null,
            "_model_module": "@jupyter-widgets/base",
            "top": null,
            "grid_column": null,
            "overflow_y": null,
            "overflow_x": null,
            "grid_auto_flow": null,
            "grid_area": null,
            "grid_template_columns": null,
            "flex": null,
            "_model_name": "LayoutModel",
            "justify_items": null,
            "grid_row": null,
            "max_height": null,
            "align_content": null,
            "visibility": null,
            "align_self": null,
            "height": null,
            "min_height": null,
            "padding": null,
            "grid_auto_rows": null,
            "grid_gap": null,
            "max_width": null,
            "order": null,
            "_view_module_version": "1.2.0",
            "grid_template_areas": null,
            "object_position": null,
            "object_fit": null,
            "grid_auto_columns": null,
            "margin": null,
            "display": null,
            "left": null
          }
        }
      }
    }
  },
  "cells": [
    {
      "cell_type": "markdown",
      "metadata": {
        "id": "view-in-github",
        "colab_type": "text"
      },
      "source": [
        "<a href=\"https://colab.research.google.com/github/LOVISHARYX/HRV-and-GSR-as-Viable-Physiological-Markers-for-Mental-Health-Recognition/blob/main/Test%2C%20training%2C%20FE.ipynb\" target=\"_parent\"><img src=\"https://colab.research.google.com/assets/colab-badge.svg\" alt=\"Open In Colab\"/></a>"
      ]
    },
    {
      "cell_type": "markdown",
      "metadata": {
        "id": "6bo4n4uRX7K6"
      },
      "source": [
        "# **Import and Install libraries**"
      ]
    },
    {
      "cell_type": "code",
      "metadata": {
        "colab": {
          "base_uri": "https://localhost:8080/"
        },
        "id": "MQGHj90Oizhm",
        "outputId": "79518c57-a48a-492a-abc3-0300d59c8bf2"
      },
      "source": [
        "!pip install tpot"
      ],
      "execution_count": 1,
      "outputs": [
        {
          "output_type": "stream",
          "name": "stdout",
          "text": [
            "Collecting tpot\n",
            "  Downloading TPOT-0.11.7-py3-none-any.whl (87 kB)\n",
            "\u001b[?25l\r\u001b[K     |███▊                            | 10 kB 25.4 MB/s eta 0:00:01\r\u001b[K     |███████▌                        | 20 kB 12.5 MB/s eta 0:00:01\r\u001b[K     |███████████▎                    | 30 kB 9.3 MB/s eta 0:00:01\r\u001b[K     |███████████████                 | 40 kB 8.3 MB/s eta 0:00:01\r\u001b[K     |██████████████████▉             | 51 kB 4.7 MB/s eta 0:00:01\r\u001b[K     |██████████████████████▋         | 61 kB 5.6 MB/s eta 0:00:01\r\u001b[K     |██████████████████████████▎     | 71 kB 5.5 MB/s eta 0:00:01\r\u001b[K     |██████████████████████████████  | 81 kB 6.2 MB/s eta 0:00:01\r\u001b[K     |████████████████████████████████| 87 kB 2.6 MB/s \n",
            "\u001b[?25hCollecting update-checker>=0.16\n",
            "  Downloading update_checker-0.18.0-py3-none-any.whl (7.0 kB)\n",
            "Requirement already satisfied: pandas>=0.24.2 in /usr/local/lib/python3.7/dist-packages (from tpot) (1.3.5)\n",
            "Collecting xgboost>=1.1.0\n",
            "  Downloading xgboost-1.5.2-py3-none-manylinux2014_x86_64.whl (173.6 MB)\n",
            "\u001b[K     |████████████████████████████████| 173.6 MB 9.7 kB/s \n",
            "\u001b[?25hRequirement already satisfied: tqdm>=4.36.1 in /usr/local/lib/python3.7/dist-packages (from tpot) (4.63.0)\n",
            "Requirement already satisfied: scikit-learn>=0.22.0 in /usr/local/lib/python3.7/dist-packages (from tpot) (1.0.2)\n",
            "Requirement already satisfied: scipy>=1.3.1 in /usr/local/lib/python3.7/dist-packages (from tpot) (1.4.1)\n",
            "Collecting deap>=1.2\n",
            "  Downloading deap-1.3.1-cp37-cp37m-manylinux_2_5_x86_64.manylinux1_x86_64.manylinux_2_12_x86_64.manylinux2010_x86_64.whl (160 kB)\n",
            "\u001b[K     |████████████████████████████████| 160 kB 42.4 MB/s \n",
            "\u001b[?25hRequirement already satisfied: numpy>=1.16.3 in /usr/local/lib/python3.7/dist-packages (from tpot) (1.21.5)\n",
            "Requirement already satisfied: joblib>=0.13.2 in /usr/local/lib/python3.7/dist-packages (from tpot) (1.1.0)\n",
            "Collecting stopit>=1.1.1\n",
            "  Downloading stopit-1.1.2.tar.gz (18 kB)\n",
            "Requirement already satisfied: python-dateutil>=2.7.3 in /usr/local/lib/python3.7/dist-packages (from pandas>=0.24.2->tpot) (2.8.2)\n",
            "Requirement already satisfied: pytz>=2017.3 in /usr/local/lib/python3.7/dist-packages (from pandas>=0.24.2->tpot) (2018.9)\n",
            "Requirement already satisfied: six>=1.5 in /usr/local/lib/python3.7/dist-packages (from python-dateutil>=2.7.3->pandas>=0.24.2->tpot) (1.15.0)\n",
            "Requirement already satisfied: threadpoolctl>=2.0.0 in /usr/local/lib/python3.7/dist-packages (from scikit-learn>=0.22.0->tpot) (3.1.0)\n",
            "Requirement already satisfied: requests>=2.3.0 in /usr/local/lib/python3.7/dist-packages (from update-checker>=0.16->tpot) (2.23.0)\n",
            "Requirement already satisfied: chardet<4,>=3.0.2 in /usr/local/lib/python3.7/dist-packages (from requests>=2.3.0->update-checker>=0.16->tpot) (3.0.4)\n",
            "Requirement already satisfied: urllib3!=1.25.0,!=1.25.1,<1.26,>=1.21.1 in /usr/local/lib/python3.7/dist-packages (from requests>=2.3.0->update-checker>=0.16->tpot) (1.24.3)\n",
            "Requirement already satisfied: certifi>=2017.4.17 in /usr/local/lib/python3.7/dist-packages (from requests>=2.3.0->update-checker>=0.16->tpot) (2021.10.8)\n",
            "Requirement already satisfied: idna<3,>=2.5 in /usr/local/lib/python3.7/dist-packages (from requests>=2.3.0->update-checker>=0.16->tpot) (2.10)\n",
            "Building wheels for collected packages: stopit\n",
            "  Building wheel for stopit (setup.py) ... \u001b[?25l\u001b[?25hdone\n",
            "  Created wheel for stopit: filename=stopit-1.1.2-py3-none-any.whl size=11956 sha256=11920ee9a28f089b7340da5acb6303608ef3ffde54326073c0984b3449655c59\n",
            "  Stored in directory: /root/.cache/pip/wheels/e2/d2/79/eaf81edb391e27c87f51b8ef901ecc85a5363dc96b8b8d71e3\n",
            "Successfully built stopit\n",
            "Installing collected packages: xgboost, update-checker, stopit, deap, tpot\n",
            "  Attempting uninstall: xgboost\n",
            "    Found existing installation: xgboost 0.90\n",
            "    Uninstalling xgboost-0.90:\n",
            "      Successfully uninstalled xgboost-0.90\n",
            "Successfully installed deap-1.3.1 stopit-1.1.2 tpot-0.11.7 update-checker-0.18.0 xgboost-1.5.2\n"
          ]
        }
      ]
    },
    {
      "cell_type": "code",
      "metadata": {
        "id": "zlR7mBXFUw8N"
      },
      "source": [
        "\n",
        "import pandas as pd\n",
        "import numpy as np\n",
        "import os\n",
        "from sklearn.metrics import classification_report\n",
        "from sklearn.model_selection import KFold\n",
        "from sklearn.ensemble import GradientBoostingClassifier\n",
        "from sklearn.preprocessing import MinMaxScaler\n",
        "from sklearn.model_selection import train_test_split\n",
        "from sklearn.metrics import classification_report, confusion_matrix\n",
        "from sklearn.preprocessing import StandardScaler\n",
        "from sklearn.model_selection import validation_curve\n",
        "\n",
        "from sklearn.neural_network import MLPClassifier\n",
        "\n",
        "from sklearn.metrics import plot_confusion_matrix\n",
        "\n",
        "\n",
        "import matplotlib.pyplot as plt\n",
        "from sklearn.ensemble import ExtraTreesClassifier\n"
      ],
      "execution_count": 2,
      "outputs": []
    },
    {
      "cell_type": "markdown",
      "metadata": {
        "id": "-5NKU-_yYpQq"
      },
      "source": [
        "# **Importing data from drive**"
      ]
    },
    {
      "cell_type": "code",
      "metadata": {
        "colab": {
          "base_uri": "https://localhost:8080/"
        },
        "id": "cKLDtHk7pAR3",
        "outputId": "cb6e69a2-e0be-437e-c99e-0671fa66d490"
      },
      "source": [
        "from google.colab import drive\n",
        "drive.mount('/content/drive')"
      ],
      "execution_count": 3,
      "outputs": [
        {
          "output_type": "stream",
          "name": "stdout",
          "text": [
            "Mounted at /content/drive\n"
          ]
        }
      ]
    },
    {
      "cell_type": "code",
      "metadata": {
        "colab": {
          "base_uri": "https://localhost:8080/",
          "height": 334
        },
        "id": "ktU-DMNwxv2f",
        "outputId": "983b346f-99b9-49b7-ac68-38b803102635"
      },
      "source": [
        "data=pd.read_csv('/content/drive/MyDrive/HRV/Stress_features/HRV+GSR_Features/selected_2level_gsr.csv')\n",
        "\n",
        "data.head()"
      ],
      "execution_count": 4,
      "outputs": [
        {
          "output_type": "execute_result",
          "data": {
            "text/plain": [
              "   Unnamed: 0  Mean RR (ms)  STD RR/SDNN (ms)  Mean HR (beats/min)  \\\n",
              "0           0    732.875000         71.185387            82.645765   \n",
              "1           1    726.375000         54.041940            83.073316   \n",
              "2           2    723.125000         53.279188            83.437092   \n",
              "3           3    710.357143         52.390962            84.916775   \n",
              "4           4    664.034091         50.632970            90.876543   \n",
              "\n",
              "   STD HR (beats/min)  Max HR (beats/min)  RMSSD (ms)  NNxx  pNNxx (%)  \\\n",
              "0            8.044368          102.564103  105.376310  23.0  57.500000   \n",
              "1            6.356145           97.165992   70.111518  20.0  50.000000   \n",
              "2            6.323683           97.165992   70.014879  22.0  55.000000   \n",
              "3            6.156541           97.165992   72.672209  20.0  47.619048   \n",
              "4            6.849407          108.597285   54.065798  15.0  34.090909   \n",
              "\n",
              "   Power VLF (ms2)  ...  Power HF (ms2)  Power Total (ms2)     LF/HF  \\\n",
              "0       101.197703  ...     2107.756209        2813.924031  0.287021   \n",
              "1        56.200659  ...     1274.120642        2021.126371  0.542182   \n",
              "2        34.208066  ...     2165.576718        2547.519847  0.160574   \n",
              "3       350.376474  ...      557.053085        1147.167842  0.430369   \n",
              "4       348.883116  ...     1319.201401        1778.044604  0.083354   \n",
              "\n",
              "   Peak VLF (Hz)  Peak LF (Hz)  Peak HF (Hz)  Fraction HF (nu)  GSR_mean_h  \\\n",
              "0       0.035088      0.140351      0.315789         77.698815    1.162313   \n",
              "1       0.035398      0.141593      0.283186         64.843197    1.151662   \n",
              "2       0.035714      0.142857      0.357143         86.164269    1.140400   \n",
              "3       0.034483      0.068966      0.344828         69.912038    1.129901   \n",
              "4       0.035398      0.070796      0.283186         92.305972    1.292639   \n",
              "\n",
              "   GSR_median_h  stress_level  \n",
              "0      0.006106           0.0  \n",
              "1      0.006274           0.0  \n",
              "2      0.006743           0.0  \n",
              "3      0.005528           0.0  \n",
              "4      0.324744           0.0  \n",
              "\n",
              "[5 rows x 21 columns]"
            ],
            "text/html": [
              "\n",
              "  <div id=\"df-6f680444-d378-4a21-a75b-6c74d51e8ef8\">\n",
              "    <div class=\"colab-df-container\">\n",
              "      <div>\n",
              "<style scoped>\n",
              "    .dataframe tbody tr th:only-of-type {\n",
              "        vertical-align: middle;\n",
              "    }\n",
              "\n",
              "    .dataframe tbody tr th {\n",
              "        vertical-align: top;\n",
              "    }\n",
              "\n",
              "    .dataframe thead th {\n",
              "        text-align: right;\n",
              "    }\n",
              "</style>\n",
              "<table border=\"1\" class=\"dataframe\">\n",
              "  <thead>\n",
              "    <tr style=\"text-align: right;\">\n",
              "      <th></th>\n",
              "      <th>Unnamed: 0</th>\n",
              "      <th>Mean RR (ms)</th>\n",
              "      <th>STD RR/SDNN (ms)</th>\n",
              "      <th>Mean HR (beats/min)</th>\n",
              "      <th>STD HR (beats/min)</th>\n",
              "      <th>Max HR (beats/min)</th>\n",
              "      <th>RMSSD (ms)</th>\n",
              "      <th>NNxx</th>\n",
              "      <th>pNNxx (%)</th>\n",
              "      <th>Power VLF (ms2)</th>\n",
              "      <th>...</th>\n",
              "      <th>Power HF (ms2)</th>\n",
              "      <th>Power Total (ms2)</th>\n",
              "      <th>LF/HF</th>\n",
              "      <th>Peak VLF (Hz)</th>\n",
              "      <th>Peak LF (Hz)</th>\n",
              "      <th>Peak HF (Hz)</th>\n",
              "      <th>Fraction HF (nu)</th>\n",
              "      <th>GSR_mean_h</th>\n",
              "      <th>GSR_median_h</th>\n",
              "      <th>stress_level</th>\n",
              "    </tr>\n",
              "  </thead>\n",
              "  <tbody>\n",
              "    <tr>\n",
              "      <th>0</th>\n",
              "      <td>0</td>\n",
              "      <td>732.875000</td>\n",
              "      <td>71.185387</td>\n",
              "      <td>82.645765</td>\n",
              "      <td>8.044368</td>\n",
              "      <td>102.564103</td>\n",
              "      <td>105.376310</td>\n",
              "      <td>23.0</td>\n",
              "      <td>57.500000</td>\n",
              "      <td>101.197703</td>\n",
              "      <td>...</td>\n",
              "      <td>2107.756209</td>\n",
              "      <td>2813.924031</td>\n",
              "      <td>0.287021</td>\n",
              "      <td>0.035088</td>\n",
              "      <td>0.140351</td>\n",
              "      <td>0.315789</td>\n",
              "      <td>77.698815</td>\n",
              "      <td>1.162313</td>\n",
              "      <td>0.006106</td>\n",
              "      <td>0.0</td>\n",
              "    </tr>\n",
              "    <tr>\n",
              "      <th>1</th>\n",
              "      <td>1</td>\n",
              "      <td>726.375000</td>\n",
              "      <td>54.041940</td>\n",
              "      <td>83.073316</td>\n",
              "      <td>6.356145</td>\n",
              "      <td>97.165992</td>\n",
              "      <td>70.111518</td>\n",
              "      <td>20.0</td>\n",
              "      <td>50.000000</td>\n",
              "      <td>56.200659</td>\n",
              "      <td>...</td>\n",
              "      <td>1274.120642</td>\n",
              "      <td>2021.126371</td>\n",
              "      <td>0.542182</td>\n",
              "      <td>0.035398</td>\n",
              "      <td>0.141593</td>\n",
              "      <td>0.283186</td>\n",
              "      <td>64.843197</td>\n",
              "      <td>1.151662</td>\n",
              "      <td>0.006274</td>\n",
              "      <td>0.0</td>\n",
              "    </tr>\n",
              "    <tr>\n",
              "      <th>2</th>\n",
              "      <td>2</td>\n",
              "      <td>723.125000</td>\n",
              "      <td>53.279188</td>\n",
              "      <td>83.437092</td>\n",
              "      <td>6.323683</td>\n",
              "      <td>97.165992</td>\n",
              "      <td>70.014879</td>\n",
              "      <td>22.0</td>\n",
              "      <td>55.000000</td>\n",
              "      <td>34.208066</td>\n",
              "      <td>...</td>\n",
              "      <td>2165.576718</td>\n",
              "      <td>2547.519847</td>\n",
              "      <td>0.160574</td>\n",
              "      <td>0.035714</td>\n",
              "      <td>0.142857</td>\n",
              "      <td>0.357143</td>\n",
              "      <td>86.164269</td>\n",
              "      <td>1.140400</td>\n",
              "      <td>0.006743</td>\n",
              "      <td>0.0</td>\n",
              "    </tr>\n",
              "    <tr>\n",
              "      <th>3</th>\n",
              "      <td>3</td>\n",
              "      <td>710.357143</td>\n",
              "      <td>52.390962</td>\n",
              "      <td>84.916775</td>\n",
              "      <td>6.156541</td>\n",
              "      <td>97.165992</td>\n",
              "      <td>72.672209</td>\n",
              "      <td>20.0</td>\n",
              "      <td>47.619048</td>\n",
              "      <td>350.376474</td>\n",
              "      <td>...</td>\n",
              "      <td>557.053085</td>\n",
              "      <td>1147.167842</td>\n",
              "      <td>0.430369</td>\n",
              "      <td>0.034483</td>\n",
              "      <td>0.068966</td>\n",
              "      <td>0.344828</td>\n",
              "      <td>69.912038</td>\n",
              "      <td>1.129901</td>\n",
              "      <td>0.005528</td>\n",
              "      <td>0.0</td>\n",
              "    </tr>\n",
              "    <tr>\n",
              "      <th>4</th>\n",
              "      <td>4</td>\n",
              "      <td>664.034091</td>\n",
              "      <td>50.632970</td>\n",
              "      <td>90.876543</td>\n",
              "      <td>6.849407</td>\n",
              "      <td>108.597285</td>\n",
              "      <td>54.065798</td>\n",
              "      <td>15.0</td>\n",
              "      <td>34.090909</td>\n",
              "      <td>348.883116</td>\n",
              "      <td>...</td>\n",
              "      <td>1319.201401</td>\n",
              "      <td>1778.044604</td>\n",
              "      <td>0.083354</td>\n",
              "      <td>0.035398</td>\n",
              "      <td>0.070796</td>\n",
              "      <td>0.283186</td>\n",
              "      <td>92.305972</td>\n",
              "      <td>1.292639</td>\n",
              "      <td>0.324744</td>\n",
              "      <td>0.0</td>\n",
              "    </tr>\n",
              "  </tbody>\n",
              "</table>\n",
              "<p>5 rows × 21 columns</p>\n",
              "</div>\n",
              "      <button class=\"colab-df-convert\" onclick=\"convertToInteractive('df-6f680444-d378-4a21-a75b-6c74d51e8ef8')\"\n",
              "              title=\"Convert this dataframe to an interactive table.\"\n",
              "              style=\"display:none;\">\n",
              "        \n",
              "  <svg xmlns=\"http://www.w3.org/2000/svg\" height=\"24px\"viewBox=\"0 0 24 24\"\n",
              "       width=\"24px\">\n",
              "    <path d=\"M0 0h24v24H0V0z\" fill=\"none\"/>\n",
              "    <path d=\"M18.56 5.44l.94 2.06.94-2.06 2.06-.94-2.06-.94-.94-2.06-.94 2.06-2.06.94zm-11 1L8.5 8.5l.94-2.06 2.06-.94-2.06-.94L8.5 2.5l-.94 2.06-2.06.94zm10 10l.94 2.06.94-2.06 2.06-.94-2.06-.94-.94-2.06-.94 2.06-2.06.94z\"/><path d=\"M17.41 7.96l-1.37-1.37c-.4-.4-.92-.59-1.43-.59-.52 0-1.04.2-1.43.59L10.3 9.45l-7.72 7.72c-.78.78-.78 2.05 0 2.83L4 21.41c.39.39.9.59 1.41.59.51 0 1.02-.2 1.41-.59l7.78-7.78 2.81-2.81c.8-.78.8-2.07 0-2.86zM5.41 20L4 18.59l7.72-7.72 1.47 1.35L5.41 20z\"/>\n",
              "  </svg>\n",
              "      </button>\n",
              "      \n",
              "  <style>\n",
              "    .colab-df-container {\n",
              "      display:flex;\n",
              "      flex-wrap:wrap;\n",
              "      gap: 12px;\n",
              "    }\n",
              "\n",
              "    .colab-df-convert {\n",
              "      background-color: #E8F0FE;\n",
              "      border: none;\n",
              "      border-radius: 50%;\n",
              "      cursor: pointer;\n",
              "      display: none;\n",
              "      fill: #1967D2;\n",
              "      height: 32px;\n",
              "      padding: 0 0 0 0;\n",
              "      width: 32px;\n",
              "    }\n",
              "\n",
              "    .colab-df-convert:hover {\n",
              "      background-color: #E2EBFA;\n",
              "      box-shadow: 0px 1px 2px rgba(60, 64, 67, 0.3), 0px 1px 3px 1px rgba(60, 64, 67, 0.15);\n",
              "      fill: #174EA6;\n",
              "    }\n",
              "\n",
              "    [theme=dark] .colab-df-convert {\n",
              "      background-color: #3B4455;\n",
              "      fill: #D2E3FC;\n",
              "    }\n",
              "\n",
              "    [theme=dark] .colab-df-convert:hover {\n",
              "      background-color: #434B5C;\n",
              "      box-shadow: 0px 1px 3px 1px rgba(0, 0, 0, 0.15);\n",
              "      filter: drop-shadow(0px 1px 2px rgba(0, 0, 0, 0.3));\n",
              "      fill: #FFFFFF;\n",
              "    }\n",
              "  </style>\n",
              "\n",
              "      <script>\n",
              "        const buttonEl =\n",
              "          document.querySelector('#df-6f680444-d378-4a21-a75b-6c74d51e8ef8 button.colab-df-convert');\n",
              "        buttonEl.style.display =\n",
              "          google.colab.kernel.accessAllowed ? 'block' : 'none';\n",
              "\n",
              "        async function convertToInteractive(key) {\n",
              "          const element = document.querySelector('#df-6f680444-d378-4a21-a75b-6c74d51e8ef8');\n",
              "          const dataTable =\n",
              "            await google.colab.kernel.invokeFunction('convertToInteractive',\n",
              "                                                     [key], {});\n",
              "          if (!dataTable) return;\n",
              "\n",
              "          const docLinkHtml = 'Like what you see? Visit the ' +\n",
              "            '<a target=\"_blank\" href=https://colab.research.google.com/notebooks/data_table.ipynb>data table notebook</a>'\n",
              "            + ' to learn more about interactive tables.';\n",
              "          element.innerHTML = '';\n",
              "          dataTable['output_type'] = 'display_data';\n",
              "          await google.colab.output.renderOutput(dataTable, element);\n",
              "          const docLink = document.createElement('div');\n",
              "          docLink.innerHTML = docLinkHtml;\n",
              "          element.appendChild(docLink);\n",
              "        }\n",
              "      </script>\n",
              "    </div>\n",
              "  </div>\n",
              "  "
            ]
          },
          "metadata": {},
          "execution_count": 4
        }
      ]
    },
    {
      "cell_type": "code",
      "metadata": {
        "id": "Kj0gakr4yWx2"
      },
      "source": [
        "data = data.iloc[: , 1:]"
      ],
      "execution_count": 5,
      "outputs": []
    },
    {
      "cell_type": "code",
      "metadata": {
        "colab": {
          "base_uri": "https://localhost:8080/",
          "height": 305
        },
        "id": "8yFXshTDyYoG",
        "outputId": "029eae03-ffa8-4bc2-f6cc-4a53a3bd68f9"
      },
      "source": [
        "data.head()"
      ],
      "execution_count": 6,
      "outputs": [
        {
          "output_type": "execute_result",
          "data": {
            "text/plain": [
              "   Mean RR (ms)  STD RR/SDNN (ms)  Mean HR (beats/min)  STD HR (beats/min)  \\\n",
              "0    732.875000         71.185387            82.645765            8.044368   \n",
              "1    726.375000         54.041940            83.073316            6.356145   \n",
              "2    723.125000         53.279188            83.437092            6.323683   \n",
              "3    710.357143         52.390962            84.916775            6.156541   \n",
              "4    664.034091         50.632970            90.876543            6.849407   \n",
              "\n",
              "   Max HR (beats/min)  RMSSD (ms)  NNxx  pNNxx (%)  Power VLF (ms2)  \\\n",
              "0          102.564103  105.376310  23.0  57.500000       101.197703   \n",
              "1           97.165992   70.111518  20.0  50.000000        56.200659   \n",
              "2           97.165992   70.014879  22.0  55.000000        34.208066   \n",
              "3           97.165992   72.672209  20.0  47.619048       350.376474   \n",
              "4          108.597285   54.065798  15.0  34.090909       348.883116   \n",
              "\n",
              "   Power LF (ms2)  Power HF (ms2)  Power Total (ms2)     LF/HF  Peak VLF (Hz)  \\\n",
              "0      604.970119     2107.756209        2813.924031  0.287021       0.035088   \n",
              "1      690.805070     1274.120642        2021.126371  0.542182       0.035398   \n",
              "2      347.735063     2165.576718        2547.519847  0.160574       0.035714   \n",
              "3      239.738283      557.053085        1147.167842  0.430369       0.034483   \n",
              "4      109.960087     1319.201401        1778.044604  0.083354       0.035398   \n",
              "\n",
              "   Peak LF (Hz)  Peak HF (Hz)  Fraction HF (nu)  GSR_mean_h  GSR_median_h  \\\n",
              "0      0.140351      0.315789         77.698815    1.162313      0.006106   \n",
              "1      0.141593      0.283186         64.843197    1.151662      0.006274   \n",
              "2      0.142857      0.357143         86.164269    1.140400      0.006743   \n",
              "3      0.068966      0.344828         69.912038    1.129901      0.005528   \n",
              "4      0.070796      0.283186         92.305972    1.292639      0.324744   \n",
              "\n",
              "   stress_level  \n",
              "0           0.0  \n",
              "1           0.0  \n",
              "2           0.0  \n",
              "3           0.0  \n",
              "4           0.0  "
            ],
            "text/html": [
              "\n",
              "  <div id=\"df-33178489-dff9-4ad4-9e43-7da89bbd0767\">\n",
              "    <div class=\"colab-df-container\">\n",
              "      <div>\n",
              "<style scoped>\n",
              "    .dataframe tbody tr th:only-of-type {\n",
              "        vertical-align: middle;\n",
              "    }\n",
              "\n",
              "    .dataframe tbody tr th {\n",
              "        vertical-align: top;\n",
              "    }\n",
              "\n",
              "    .dataframe thead th {\n",
              "        text-align: right;\n",
              "    }\n",
              "</style>\n",
              "<table border=\"1\" class=\"dataframe\">\n",
              "  <thead>\n",
              "    <tr style=\"text-align: right;\">\n",
              "      <th></th>\n",
              "      <th>Mean RR (ms)</th>\n",
              "      <th>STD RR/SDNN (ms)</th>\n",
              "      <th>Mean HR (beats/min)</th>\n",
              "      <th>STD HR (beats/min)</th>\n",
              "      <th>Max HR (beats/min)</th>\n",
              "      <th>RMSSD (ms)</th>\n",
              "      <th>NNxx</th>\n",
              "      <th>pNNxx (%)</th>\n",
              "      <th>Power VLF (ms2)</th>\n",
              "      <th>Power LF (ms2)</th>\n",
              "      <th>Power HF (ms2)</th>\n",
              "      <th>Power Total (ms2)</th>\n",
              "      <th>LF/HF</th>\n",
              "      <th>Peak VLF (Hz)</th>\n",
              "      <th>Peak LF (Hz)</th>\n",
              "      <th>Peak HF (Hz)</th>\n",
              "      <th>Fraction HF (nu)</th>\n",
              "      <th>GSR_mean_h</th>\n",
              "      <th>GSR_median_h</th>\n",
              "      <th>stress_level</th>\n",
              "    </tr>\n",
              "  </thead>\n",
              "  <tbody>\n",
              "    <tr>\n",
              "      <th>0</th>\n",
              "      <td>732.875000</td>\n",
              "      <td>71.185387</td>\n",
              "      <td>82.645765</td>\n",
              "      <td>8.044368</td>\n",
              "      <td>102.564103</td>\n",
              "      <td>105.376310</td>\n",
              "      <td>23.0</td>\n",
              "      <td>57.500000</td>\n",
              "      <td>101.197703</td>\n",
              "      <td>604.970119</td>\n",
              "      <td>2107.756209</td>\n",
              "      <td>2813.924031</td>\n",
              "      <td>0.287021</td>\n",
              "      <td>0.035088</td>\n",
              "      <td>0.140351</td>\n",
              "      <td>0.315789</td>\n",
              "      <td>77.698815</td>\n",
              "      <td>1.162313</td>\n",
              "      <td>0.006106</td>\n",
              "      <td>0.0</td>\n",
              "    </tr>\n",
              "    <tr>\n",
              "      <th>1</th>\n",
              "      <td>726.375000</td>\n",
              "      <td>54.041940</td>\n",
              "      <td>83.073316</td>\n",
              "      <td>6.356145</td>\n",
              "      <td>97.165992</td>\n",
              "      <td>70.111518</td>\n",
              "      <td>20.0</td>\n",
              "      <td>50.000000</td>\n",
              "      <td>56.200659</td>\n",
              "      <td>690.805070</td>\n",
              "      <td>1274.120642</td>\n",
              "      <td>2021.126371</td>\n",
              "      <td>0.542182</td>\n",
              "      <td>0.035398</td>\n",
              "      <td>0.141593</td>\n",
              "      <td>0.283186</td>\n",
              "      <td>64.843197</td>\n",
              "      <td>1.151662</td>\n",
              "      <td>0.006274</td>\n",
              "      <td>0.0</td>\n",
              "    </tr>\n",
              "    <tr>\n",
              "      <th>2</th>\n",
              "      <td>723.125000</td>\n",
              "      <td>53.279188</td>\n",
              "      <td>83.437092</td>\n",
              "      <td>6.323683</td>\n",
              "      <td>97.165992</td>\n",
              "      <td>70.014879</td>\n",
              "      <td>22.0</td>\n",
              "      <td>55.000000</td>\n",
              "      <td>34.208066</td>\n",
              "      <td>347.735063</td>\n",
              "      <td>2165.576718</td>\n",
              "      <td>2547.519847</td>\n",
              "      <td>0.160574</td>\n",
              "      <td>0.035714</td>\n",
              "      <td>0.142857</td>\n",
              "      <td>0.357143</td>\n",
              "      <td>86.164269</td>\n",
              "      <td>1.140400</td>\n",
              "      <td>0.006743</td>\n",
              "      <td>0.0</td>\n",
              "    </tr>\n",
              "    <tr>\n",
              "      <th>3</th>\n",
              "      <td>710.357143</td>\n",
              "      <td>52.390962</td>\n",
              "      <td>84.916775</td>\n",
              "      <td>6.156541</td>\n",
              "      <td>97.165992</td>\n",
              "      <td>72.672209</td>\n",
              "      <td>20.0</td>\n",
              "      <td>47.619048</td>\n",
              "      <td>350.376474</td>\n",
              "      <td>239.738283</td>\n",
              "      <td>557.053085</td>\n",
              "      <td>1147.167842</td>\n",
              "      <td>0.430369</td>\n",
              "      <td>0.034483</td>\n",
              "      <td>0.068966</td>\n",
              "      <td>0.344828</td>\n",
              "      <td>69.912038</td>\n",
              "      <td>1.129901</td>\n",
              "      <td>0.005528</td>\n",
              "      <td>0.0</td>\n",
              "    </tr>\n",
              "    <tr>\n",
              "      <th>4</th>\n",
              "      <td>664.034091</td>\n",
              "      <td>50.632970</td>\n",
              "      <td>90.876543</td>\n",
              "      <td>6.849407</td>\n",
              "      <td>108.597285</td>\n",
              "      <td>54.065798</td>\n",
              "      <td>15.0</td>\n",
              "      <td>34.090909</td>\n",
              "      <td>348.883116</td>\n",
              "      <td>109.960087</td>\n",
              "      <td>1319.201401</td>\n",
              "      <td>1778.044604</td>\n",
              "      <td>0.083354</td>\n",
              "      <td>0.035398</td>\n",
              "      <td>0.070796</td>\n",
              "      <td>0.283186</td>\n",
              "      <td>92.305972</td>\n",
              "      <td>1.292639</td>\n",
              "      <td>0.324744</td>\n",
              "      <td>0.0</td>\n",
              "    </tr>\n",
              "  </tbody>\n",
              "</table>\n",
              "</div>\n",
              "      <button class=\"colab-df-convert\" onclick=\"convertToInteractive('df-33178489-dff9-4ad4-9e43-7da89bbd0767')\"\n",
              "              title=\"Convert this dataframe to an interactive table.\"\n",
              "              style=\"display:none;\">\n",
              "        \n",
              "  <svg xmlns=\"http://www.w3.org/2000/svg\" height=\"24px\"viewBox=\"0 0 24 24\"\n",
              "       width=\"24px\">\n",
              "    <path d=\"M0 0h24v24H0V0z\" fill=\"none\"/>\n",
              "    <path d=\"M18.56 5.44l.94 2.06.94-2.06 2.06-.94-2.06-.94-.94-2.06-.94 2.06-2.06.94zm-11 1L8.5 8.5l.94-2.06 2.06-.94-2.06-.94L8.5 2.5l-.94 2.06-2.06.94zm10 10l.94 2.06.94-2.06 2.06-.94-2.06-.94-.94-2.06-.94 2.06-2.06.94z\"/><path d=\"M17.41 7.96l-1.37-1.37c-.4-.4-.92-.59-1.43-.59-.52 0-1.04.2-1.43.59L10.3 9.45l-7.72 7.72c-.78.78-.78 2.05 0 2.83L4 21.41c.39.39.9.59 1.41.59.51 0 1.02-.2 1.41-.59l7.78-7.78 2.81-2.81c.8-.78.8-2.07 0-2.86zM5.41 20L4 18.59l7.72-7.72 1.47 1.35L5.41 20z\"/>\n",
              "  </svg>\n",
              "      </button>\n",
              "      \n",
              "  <style>\n",
              "    .colab-df-container {\n",
              "      display:flex;\n",
              "      flex-wrap:wrap;\n",
              "      gap: 12px;\n",
              "    }\n",
              "\n",
              "    .colab-df-convert {\n",
              "      background-color: #E8F0FE;\n",
              "      border: none;\n",
              "      border-radius: 50%;\n",
              "      cursor: pointer;\n",
              "      display: none;\n",
              "      fill: #1967D2;\n",
              "      height: 32px;\n",
              "      padding: 0 0 0 0;\n",
              "      width: 32px;\n",
              "    }\n",
              "\n",
              "    .colab-df-convert:hover {\n",
              "      background-color: #E2EBFA;\n",
              "      box-shadow: 0px 1px 2px rgba(60, 64, 67, 0.3), 0px 1px 3px 1px rgba(60, 64, 67, 0.15);\n",
              "      fill: #174EA6;\n",
              "    }\n",
              "\n",
              "    [theme=dark] .colab-df-convert {\n",
              "      background-color: #3B4455;\n",
              "      fill: #D2E3FC;\n",
              "    }\n",
              "\n",
              "    [theme=dark] .colab-df-convert:hover {\n",
              "      background-color: #434B5C;\n",
              "      box-shadow: 0px 1px 3px 1px rgba(0, 0, 0, 0.15);\n",
              "      filter: drop-shadow(0px 1px 2px rgba(0, 0, 0, 0.3));\n",
              "      fill: #FFFFFF;\n",
              "    }\n",
              "  </style>\n",
              "\n",
              "      <script>\n",
              "        const buttonEl =\n",
              "          document.querySelector('#df-33178489-dff9-4ad4-9e43-7da89bbd0767 button.colab-df-convert');\n",
              "        buttonEl.style.display =\n",
              "          google.colab.kernel.accessAllowed ? 'block' : 'none';\n",
              "\n",
              "        async function convertToInteractive(key) {\n",
              "          const element = document.querySelector('#df-33178489-dff9-4ad4-9e43-7da89bbd0767');\n",
              "          const dataTable =\n",
              "            await google.colab.kernel.invokeFunction('convertToInteractive',\n",
              "                                                     [key], {});\n",
              "          if (!dataTable) return;\n",
              "\n",
              "          const docLinkHtml = 'Like what you see? Visit the ' +\n",
              "            '<a target=\"_blank\" href=https://colab.research.google.com/notebooks/data_table.ipynb>data table notebook</a>'\n",
              "            + ' to learn more about interactive tables.';\n",
              "          element.innerHTML = '';\n",
              "          dataTable['output_type'] = 'display_data';\n",
              "          await google.colab.output.renderOutput(dataTable, element);\n",
              "          const docLink = document.createElement('div');\n",
              "          docLink.innerHTML = docLinkHtml;\n",
              "          element.appendChild(docLink);\n",
              "        }\n",
              "      </script>\n",
              "    </div>\n",
              "  </div>\n",
              "  "
            ]
          },
          "metadata": {},
          "execution_count": 6
        }
      ]
    },
    {
      "cell_type": "markdown",
      "metadata": {
        "id": "BY45dURVI7J9"
      },
      "source": [
        ""
      ]
    },
    {
      "cell_type": "markdown",
      "metadata": {
        "id": "p2OimieYZ8tX"
      },
      "source": [
        "# **Extra trees feature selection**"
      ]
    },
    {
      "cell_type": "code",
      "metadata": {
        "id": "Ta9zfRKuaMDn"
      },
      "source": [
        "Y = data['stress_level']\n",
        "X = data.drop('stress_level', axis = 1)"
      ],
      "execution_count": 7,
      "outputs": []
    },
    {
      "cell_type": "code",
      "metadata": {
        "id": "iRSuxjVQaA3v"
      },
      "source": [
        "# Building the model\n",
        "extra_tree_forest = ExtraTreesClassifier(n_estimators = 100,\n",
        "\t\t\t\t\t\t\t\t\t\tcriterion ='gini', max_features = 2)\n",
        "\n",
        "# Training the model\n",
        "extra_tree_forest.fit(X, Y)\n",
        "\n",
        "# Computing the importance of each feature\n",
        "feature_importance = extra_tree_forest.feature_importances_\n",
        "\n",
        "# Normalizing the individual importances\n",
        "feature_importance_normalized = np.std([tree.feature_importances_ for tree in\n",
        "\t\t\t\t\t\t\t\t\t\textra_tree_forest.estimators_],\n",
        "\t\t\t\t\t\t\t\t\t\taxis = 0)"
      ],
      "execution_count": 8,
      "outputs": []
    },
    {
      "cell_type": "code",
      "metadata": {
        "colab": {
          "base_uri": "https://localhost:8080/",
          "height": 296
        },
        "id": "FSwI1SSJaDPx",
        "outputId": "a35bb4fe-7737-4447-c07a-e09c3622f226"
      },
      "source": [
        "# Plotting a Bar Graph to compare the models\n",
        "plt.bar(X.columns, feature_importance_normalized)\n",
        "plt.xlabel('Feature Labels')\n",
        "plt.ylabel('Feature Importances')\n",
        "plt.title('Comparison of different Feature Importances')\n",
        "plt.show()"
      ],
      "execution_count": 9,
      "outputs": [
        {
          "output_type": "display_data",
          "data": {
            "text/plain": [
              "<Figure size 432x288 with 1 Axes>"
            ],
            "image/png": "[encoded data removed]"
          },
          "metadata": {
            "needs_background": "light"
          }
        }
      ]
    },
    {
      "cell_type": "code",
      "metadata": {
        "id": "bHpX4JNveBSu"
      },
      "source": [
        "#data = data.iloc[: , 1:]\n"
      ],
      "execution_count": null,
      "outputs": []
    },
    {
      "cell_type": "code",
      "metadata": {
        "colab": {
          "base_uri": "https://localhost:8080/"
        },
        "id": "vmqoBjJ0yhMo",
        "outputId": "d5972034-b7cc-4413-c99a-d93cf85522b4"
      },
      "source": [
        "x=data.columns\n",
        "#x=['Mean RR (ms)', 'STD RR/SDNN (ms)','Mean HR (beats/min)', 'STD HR (beats/min)', 'Min HR (beats/min)', 'Max HR (beats/min)','RMSSD (ms)', 'pNNxx (%)', 'Power VLF (ms2)']   \n",
        "x=data[x]\n",
        "y=data['stress_level']\n",
        "type(x)"
      ],
      "execution_count": 10,
      "outputs": [
        {
          "output_type": "execute_result",
          "data": {
            "text/plain": [
              "pandas.core.frame.DataFrame"
            ]
          },
          "metadata": {},
          "execution_count": 10
        }
      ]
    },
    {
      "cell_type": "code",
      "metadata": {
        "id": "IDAaAvoEqyuQ",
        "colab": {
          "base_uri": "https://localhost:8080/"
        },
        "outputId": "d0e32435-2f25-40de-8e42-cfeffe5c14b8"
      },
      "source": [
        "y"
      ],
      "execution_count": 11,
      "outputs": [
        {
          "output_type": "execute_result",
          "data": {
            "text/plain": [
              "0      0.0\n",
              "1      0.0\n",
              "2      0.0\n",
              "3      0.0\n",
              "4      0.0\n",
              "      ... \n",
              "641    1.0\n",
              "642    1.0\n",
              "643    1.0\n",
              "644    1.0\n",
              "645    1.0\n",
              "Name: stress_level, Length: 646, dtype: float64"
            ]
          },
          "metadata": {},
          "execution_count": 11
        }
      ]
    },
    {
      "cell_type": "code",
      "metadata": {
        "colab": {
          "base_uri": "https://localhost:8080/",
          "height": 305
        },
        "id": "ueo92W8d7xAP",
        "outputId": "e55c477f-1cf1-4c07-867d-5b6aaecfa3b1"
      },
      "source": [
        "x.head()"
      ],
      "execution_count": 12,
      "outputs": [
        {
          "output_type": "execute_result",
          "data": {
            "text/plain": [
              "   Mean RR (ms)  STD RR/SDNN (ms)  Mean HR (beats/min)  STD HR (beats/min)  \\\n",
              "0    732.875000         71.185387            82.645765            8.044368   \n",
              "1    726.375000         54.041940            83.073316            6.356145   \n",
              "2    723.125000         53.279188            83.437092            6.323683   \n",
              "3    710.357143         52.390962            84.916775            6.156541   \n",
              "4    664.034091         50.632970            90.876543            6.849407   \n",
              "\n",
              "   Max HR (beats/min)  RMSSD (ms)  NNxx  pNNxx (%)  Power VLF (ms2)  \\\n",
              "0          102.564103  105.376310  23.0  57.500000       101.197703   \n",
              "1           97.165992   70.111518  20.0  50.000000        56.200659   \n",
              "2           97.165992   70.014879  22.0  55.000000        34.208066   \n",
              "3           97.165992   72.672209  20.0  47.619048       350.376474   \n",
              "4          108.597285   54.065798  15.0  34.090909       348.883116   \n",
              "\n",
              "   Power LF (ms2)  Power HF (ms2)  Power Total (ms2)     LF/HF  Peak VLF (Hz)  \\\n",
              "0      604.970119     2107.756209        2813.924031  0.287021       0.035088   \n",
              "1      690.805070     1274.120642        2021.126371  0.542182       0.035398   \n",
              "2      347.735063     2165.576718        2547.519847  0.160574       0.035714   \n",
              "3      239.738283      557.053085        1147.167842  0.430369       0.034483   \n",
              "4      109.960087     1319.201401        1778.044604  0.083354       0.035398   \n",
              "\n",
              "   Peak LF (Hz)  Peak HF (Hz)  Fraction HF (nu)  GSR_mean_h  GSR_median_h  \\\n",
              "0      0.140351      0.315789         77.698815    1.162313      0.006106   \n",
              "1      0.141593      0.283186         64.843197    1.151662      0.006274   \n",
              "2      0.142857      0.357143         86.164269    1.140400      0.006743   \n",
              "3      0.068966      0.344828         69.912038    1.129901      0.005528   \n",
              "4      0.070796      0.283186         92.305972    1.292639      0.324744   \n",
              "\n",
              "   stress_level  \n",
              "0           0.0  \n",
              "1           0.0  \n",
              "2           0.0  \n",
              "3           0.0  \n",
              "4           0.0  "
            ],
            "text/html": [
              "\n",
              "  <div id=\"df-11533a32-c5a7-4371-b1da-9f8997480529\">\n",
              "    <div class=\"colab-df-container\">\n",
              "      <div>\n",
              "<style scoped>\n",
              "    .dataframe tbody tr th:only-of-type {\n",
              "        vertical-align: middle;\n",
              "    }\n",
              "\n",
              "    .dataframe tbody tr th {\n",
              "        vertical-align: top;\n",
              "    }\n",
              "\n",
              "    .dataframe thead th {\n",
              "        text-align: right;\n",
              "    }\n",
              "</style>\n",
              "<table border=\"1\" class=\"dataframe\">\n",
              "  <thead>\n",
              "    <tr style=\"text-align: right;\">\n",
              "      <th></th>\n",
              "      <th>Mean RR (ms)</th>\n",
              "      <th>STD RR/SDNN (ms)</th>\n",
              "      <th>Mean HR (beats/min)</th>\n",
              "      <th>STD HR (beats/min)</th>\n",
              "      <th>Max HR (beats/min)</th>\n",
              "      <th>RMSSD (ms)</th>\n",
              "      <th>NNxx</th>\n",
              "      <th>pNNxx (%)</th>\n",
              "      <th>Power VLF (ms2)</th>\n",
              "      <th>Power LF (ms2)</th>\n",
              "      <th>Power HF (ms2)</th>\n",
              "      <th>Power Total (ms2)</th>\n",
              "      <th>LF/HF</th>\n",
              "      <th>Peak VLF (Hz)</th>\n",
              "      <th>Peak LF (Hz)</th>\n",
              "      <th>Peak HF (Hz)</th>\n",
              "      <th>Fraction HF (nu)</th>\n",
              "      <th>GSR_mean_h</th>\n",
              "      <th>GSR_median_h</th>\n",
              "      <th>stress_level</th>\n",
              "    </tr>\n",
              "  </thead>\n",
              "  <tbody>\n",
              "    <tr>\n",
              "      <th>0</th>\n",
              "      <td>732.875000</td>\n",
              "      <td>71.185387</td>\n",
              "      <td>82.645765</td>\n",
              "      <td>8.044368</td>\n",
              "      <td>102.564103</td>\n",
              "      <td>105.376310</td>\n",
              "      <td>23.0</td>\n",
              "      <td>57.500000</td>\n",
              "      <td>101.197703</td>\n",
              "      <td>604.970119</td>\n",
              "      <td>2107.756209</td>\n",
              "      <td>2813.924031</td>\n",
              "      <td>0.287021</td>\n",
              "      <td>0.035088</td>\n",
              "      <td>0.140351</td>\n",
              "      <td>0.315789</td>\n",
              "      <td>77.698815</td>\n",
              "      <td>1.162313</td>\n",
              "      <td>0.006106</td>\n",
              "      <td>0.0</td>\n",
              "    </tr>\n",
              "    <tr>\n",
              "      <th>1</th>\n",
              "      <td>726.375000</td>\n",
              "      <td>54.041940</td>\n",
              "      <td>83.073316</td>\n",
              "      <td>6.356145</td>\n",
              "      <td>97.165992</td>\n",
              "      <td>70.111518</td>\n",
              "      <td>20.0</td>\n",
              "      <td>50.000000</td>\n",
              "      <td>56.200659</td>\n",
              "      <td>690.805070</td>\n",
              "      <td>1274.120642</td>\n",
              "      <td>2021.126371</td>\n",
              "      <td>0.542182</td>\n",
              "      <td>0.035398</td>\n",
              "      <td>0.141593</td>\n",
              "      <td>0.283186</td>\n",
              "      <td>64.843197</td>\n",
              "      <td>1.151662</td>\n",
              "      <td>0.006274</td>\n",
              "      <td>0.0</td>\n",
              "    </tr>\n",
              "    <tr>\n",
              "      <th>2</th>\n",
              "      <td>723.125000</td>\n",
              "      <td>53.279188</td>\n",
              "      <td>83.437092</td>\n",
              "      <td>6.323683</td>\n",
              "      <td>97.165992</td>\n",
              "      <td>70.014879</td>\n",
              "      <td>22.0</td>\n",
              "      <td>55.000000</td>\n",
              "      <td>34.208066</td>\n",
              "      <td>347.735063</td>\n",
              "      <td>2165.576718</td>\n",
              "      <td>2547.519847</td>\n",
              "      <td>0.160574</td>\n",
              "      <td>0.035714</td>\n",
              "      <td>0.142857</td>\n",
              "      <td>0.357143</td>\n",
              "      <td>86.164269</td>\n",
              "      <td>1.140400</td>\n",
              "      <td>0.006743</td>\n",
              "      <td>0.0</td>\n",
              "    </tr>\n",
              "    <tr>\n",
              "      <th>3</th>\n",
              "      <td>710.357143</td>\n",
              "      <td>52.390962</td>\n",
              "      <td>84.916775</td>\n",
              "      <td>6.156541</td>\n",
              "      <td>97.165992</td>\n",
              "      <td>72.672209</td>\n",
              "      <td>20.0</td>\n",
              "      <td>47.619048</td>\n",
              "      <td>350.376474</td>\n",
              "      <td>239.738283</td>\n",
              "      <td>557.053085</td>\n",
              "      <td>1147.167842</td>\n",
              "      <td>0.430369</td>\n",
              "      <td>0.034483</td>\n",
              "      <td>0.068966</td>\n",
              "      <td>0.344828</td>\n",
              "      <td>69.912038</td>\n",
              "      <td>1.129901</td>\n",
              "      <td>0.005528</td>\n",
              "      <td>0.0</td>\n",
              "    </tr>\n",
              "    <tr>\n",
              "      <th>4</th>\n",
              "      <td>664.034091</td>\n",
              "      <td>50.632970</td>\n",
              "      <td>90.876543</td>\n",
              "      <td>6.849407</td>\n",
              "      <td>108.597285</td>\n",
              "      <td>54.065798</td>\n",
              "      <td>15.0</td>\n",
              "      <td>34.090909</td>\n",
              "      <td>348.883116</td>\n",
              "      <td>109.960087</td>\n",
              "      <td>1319.201401</td>\n",
              "      <td>1778.044604</td>\n",
              "      <td>0.083354</td>\n",
              "      <td>0.035398</td>\n",
              "      <td>0.070796</td>\n",
              "      <td>0.283186</td>\n",
              "      <td>92.305972</td>\n",
              "      <td>1.292639</td>\n",
              "      <td>0.324744</td>\n",
              "      <td>0.0</td>\n",
              "    </tr>\n",
              "  </tbody>\n",
              "</table>\n",
              "</div>\n",
              "      <button class=\"colab-df-convert\" onclick=\"convertToInteractive('df-11533a32-c5a7-4371-b1da-9f8997480529')\"\n",
              "              title=\"Convert this dataframe to an interactive table.\"\n",
              "              style=\"display:none;\">\n",
              "        \n",
              "  <svg xmlns=\"http://www.w3.org/2000/svg\" height=\"24px\"viewBox=\"0 0 24 24\"\n",
              "       width=\"24px\">\n",
              "    <path d=\"M0 0h24v24H0V0z\" fill=\"none\"/>\n",
              "    <path d=\"M18.56 5.44l.94 2.06.94-2.06 2.06-.94-2.06-.94-.94-2.06-.94 2.06-2.06.94zm-11 1L8.5 8.5l.94-2.06 2.06-.94-2.06-.94L8.5 2.5l-.94 2.06-2.06.94zm10 10l.94 2.06.94-2.06 2.06-.94-2.06-.94-.94-2.06-.94 2.06-2.06.94z\"/><path d=\"M17.41 7.96l-1.37-1.37c-.4-.4-.92-.59-1.43-.59-.52 0-1.04.2-1.43.59L10.3 9.45l-7.72 7.72c-.78.78-.78 2.05 0 2.83L4 21.41c.39.39.9.59 1.41.59.51 0 1.02-.2 1.41-.59l7.78-7.78 2.81-2.81c.8-.78.8-2.07 0-2.86zM5.41 20L4 18.59l7.72-7.72 1.47 1.35L5.41 20z\"/>\n",
              "  </svg>\n",
              "      </button>\n",
              "      \n",
              "  <style>\n",
              "    .colab-df-container {\n",
              "      display:flex;\n",
              "      flex-wrap:wrap;\n",
              "      gap: 12px;\n",
              "    }\n",
              "\n",
              "    .colab-df-convert {\n",
              "      background-color: #E8F0FE;\n",
              "      border: none;\n",
              "      border-radius: 50%;\n",
              "      cursor: pointer;\n",
              "      display: none;\n",
              "      fill: #1967D2;\n",
              "      height: 32px;\n",
              "      padding: 0 0 0 0;\n",
              "      width: 32px;\n",
              "    }\n",
              "\n",
              "    .colab-df-convert:hover {\n",
              "      background-color: #E2EBFA;\n",
              "      box-shadow: 0px 1px 2px rgba(60, 64, 67, 0.3), 0px 1px 3px 1px rgba(60, 64, 67, 0.15);\n",
              "      fill: #174EA6;\n",
              "    }\n",
              "\n",
              "    [theme=dark] .colab-df-convert {\n",
              "      background-color: #3B4455;\n",
              "      fill: #D2E3FC;\n",
              "    }\n",
              "\n",
              "    [theme=dark] .colab-df-convert:hover {\n",
              "      background-color: #434B5C;\n",
              "      box-shadow: 0px 1px 3px 1px rgba(0, 0, 0, 0.15);\n",
              "      filter: drop-shadow(0px 1px 2px rgba(0, 0, 0, 0.3));\n",
              "      fill: #FFFFFF;\n",
              "    }\n",
              "  </style>\n",
              "\n",
              "      <script>\n",
              "        const buttonEl =\n",
              "          document.querySelector('#df-11533a32-c5a7-4371-b1da-9f8997480529 button.colab-df-convert');\n",
              "        buttonEl.style.display =\n",
              "          google.colab.kernel.accessAllowed ? 'block' : 'none';\n",
              "\n",
              "        async function convertToInteractive(key) {\n",
              "          const element = document.querySelector('#df-11533a32-c5a7-4371-b1da-9f8997480529');\n",
              "          const dataTable =\n",
              "            await google.colab.kernel.invokeFunction('convertToInteractive',\n",
              "                                                     [key], {});\n",
              "          if (!dataTable) return;\n",
              "\n",
              "          const docLinkHtml = 'Like what you see? Visit the ' +\n",
              "            '<a target=\"_blank\" href=https://colab.research.google.com/notebooks/data_table.ipynb>data table notebook</a>'\n",
              "            + ' to learn more about interactive tables.';\n",
              "          element.innerHTML = '';\n",
              "          dataTable['output_type'] = 'display_data';\n",
              "          await google.colab.output.renderOutput(dataTable, element);\n",
              "          const docLink = document.createElement('div');\n",
              "          docLink.innerHTML = docLinkHtml;\n",
              "          element.appendChild(docLink);\n",
              "        }\n",
              "      </script>\n",
              "    </div>\n",
              "  </div>\n",
              "  "
            ]
          },
          "metadata": {},
          "execution_count": 12
        }
      ]
    },
    {
      "cell_type": "markdown",
      "metadata": {
        "id": "mhkezbqZYxKv"
      },
      "source": [
        "# **Testing, training and normalization**"
      ]
    },
    {
      "cell_type": "code",
      "metadata": {
        "id": "HrDteODVylqq"
      },
      "source": [
        "test_size=0.20\n",
        "seed=6\n",
        "x_train,x_test,y_train,y_test=train_test_split(X,Y,test_size=test_size, random_state=seed)\n"
      ],
      "execution_count": 13,
      "outputs": []
    },
    {
      "cell_type": "code",
      "metadata": {
        "id": "XAzg5MwpY60H"
      },
      "source": [
        "nor_x = StandardScaler()\n",
        "x_train_nor=nor_x.fit_transform(x_train)\n",
        "x_test_nor=nor_x.transform(x_test)"
      ],
      "execution_count": 14,
      "outputs": []
    },
    {
      "cell_type": "markdown",
      "metadata": {
        "id": "l1Rb91jKY0ag"
      },
      "source": [
        "# **Tpot**"
      ]
    },
    {
      "cell_type": "code",
      "metadata": {
        "colab": {
          "base_uri": "https://localhost:8080/",
          "height": 228,
          "referenced_widgets": [
            "a0400cc8c74a4de8893eba07dcc77657",
            "54952cb4ed5b430aa0d3310a1f63ce50",
            "655b1102ad8d4922990434e300c6ce3e",
            "43737e8746ef4cdf9005fd21a3c8e59c",
            "50f7afd1160b468c803ec8d0e1065333",
            "0eb5c7f700bc4c9dbcc22d329f81d303",
            "669b906af9424aef916fc5672ea2b87f",
            "3b4f2b0a30444900ad39ff276cd9d5f9",
            "701349d92e3b4d109b7334fd921fe675",
            "e8e63ea05502486590fa1e0ce48d84c9",
            "9e06737645fd4934a86f63cc9995d6e1"
          ]
        },
        "id": "6JEL-yOeicik",
        "outputId": "3a7155f5-4948-41cb-bc32-e21b5e85fdaa"
      },
      "source": [
        "tpot = TPOTClassifier(generations=5, population_size=50, verbosity=2, random_state=42)\n",
        "tpot.fit(x_train, y_train)\n",
        "print(tpot.score(x_test, y_test))\n",
        "tpot.export('tpot_digits_pipeline.py')"
      ],
      "execution_count": null,
      "outputs": [
        {
          "output_type": "display_data",
          "data": {
            "application/vnd.jupyter.widget-view+json": {
              "model_id": "a0400cc8c74a4de8893eba07dcc77657",
              "version_minor": 0,
              "version_major": 2
            },
            "text/plain": [
              "Optimization Progress:   0%|          | 0/300 [00:00<?, ?pipeline/s]"
            ]
          },
          "metadata": {}
        },
        {
          "output_type": "stream",
          "name": "stdout",
          "text": [
            "\n",
            "Generation 1 - Current best internal CV score: 1.0\n",
            "\n",
            "Generation 2 - Current best internal CV score: 1.0\n",
            "\n",
            "Generation 3 - Current best internal CV score: 1.0\n",
            "\n",
            "Generation 4 - Current best internal CV score: 1.0\n",
            "\n",
            "Generation 5 - Current best internal CV score: 1.0\n",
            "\n",
            "Best pipeline: XGBClassifier(input_matrix, learning_rate=0.001, max_depth=9, min_child_weight=7, n_estimators=100, n_jobs=1, subsample=0.45, verbosity=0)\n",
            "1.0\n"
          ]
        }
      ]
    },
    {
      "cell_type": "code",
      "metadata": {
        "colab": {
          "base_uri": "https://localhost:8080/"
        },
        "id": "XMriHNkam656",
        "outputId": "b0ebc8cd-3eb1-4bf5-c4d7-e56459843908"
      },
      "source": [
        "print(tpot.score(x_test, y_test))\n",
        "tpot.export('tpot_digits_pipeline.py')"
      ],
      "execution_count": null,
      "outputs": [
        {
          "output_type": "stream",
          "name": "stdout",
          "text": [
            "1.0\n"
          ]
        }
      ]
    },
    {
      "cell_type": "markdown",
      "metadata": {
        "id": "X0ER5uJCZHNV"
      },
      "source": [
        "# **Data visualisation**"
      ]
    },
    {
      "cell_type": "code",
      "metadata": {
        "colab": {
          "base_uri": "https://localhost:8080/",
          "height": 305
        },
        "id": "PZ4GIBKDzk1l",
        "outputId": "3740182b-21ff-459b-8dd5-10297dc240a5"
      },
      "source": [
        "x_train.head()"
      ],
      "execution_count": 15,
      "outputs": [
        {
          "output_type": "execute_result",
          "data": {
            "text/plain": [
              "     Mean RR (ms)  STD RR/SDNN (ms)  Mean HR (beats/min)  STD HR (beats/min)  \\\n",
              "641    791.118421         70.842434            76.440531            6.704169   \n",
              "185    834.785714         36.249982            72.010221            3.126706   \n",
              "298    914.062500         61.744654            65.952893            4.627417   \n",
              "87     656.190476         78.089612            92.641171           10.267381   \n",
              "372    723.937500         89.592633            84.136110           10.281269   \n",
              "\n",
              "     Max HR (beats/min)  RMSSD (ms)  NNxx  pNNxx (%)  Power VLF (ms2)  \\\n",
              "641           87.912088   50.121474  11.0  28.947368      1117.833978   \n",
              "185           80.267559   49.225621  11.0  31.428571        28.727183   \n",
              "298           76.923077   73.372118  14.0  43.750000        64.902561   \n",
              "87           115.384615  100.748721  25.0  59.523810       268.380098   \n",
              "372          102.564103  121.826379  28.0  70.000000        69.367117   \n",
              "\n",
              "     Power LF (ms2)  Power HF (ms2)  Power Total (ms2)     LF/HF  \\\n",
              "641      503.821196     1219.226264        2840.881438  0.413230   \n",
              "185      183.612600      385.500369         597.840152  0.476297   \n",
              "298     1034.773728     1236.483285        2336.159574  0.836868   \n",
              "87       264.899979     1142.419749        1675.699826  0.231876   \n",
              "372      623.196972     1586.973096        2279.537185  0.392695   \n",
              "\n",
              "     Peak VLF (Hz)  Peak LF (Hz)  Peak HF (Hz)  Fraction HF (nu)  GSR_mean_h  \\\n",
              "641       0.034188      0.068376      0.273504         70.759877    6.478609   \n",
              "185       0.035398      0.141593      0.318584         67.737056    6.926996   \n",
              "298       0.035398      0.106195      0.176991         54.440483    7.001206   \n",
              "87        0.037383      0.112150      0.224299         81.176987    1.130910   \n",
              "372       0.000000      0.071429      0.214286         71.803212    9.305135   \n",
              "\n",
              "     GSR_median_h  \n",
              "641      0.542223  \n",
              "185      0.572482  \n",
              "298      0.451712  \n",
              "87       0.020100  \n",
              "372      1.154714  "
            ],
            "text/html": [
              "\n",
              "  <div id=\"df-92e0e619-3e93-48cb-a6fc-706c2a77708a\">\n",
              "    <div class=\"colab-df-container\">\n",
              "      <div>\n",
              "<style scoped>\n",
              "    .dataframe tbody tr th:only-of-type {\n",
              "        vertical-align: middle;\n",
              "    }\n",
              "\n",
              "    .dataframe tbody tr th {\n",
              "        vertical-align: top;\n",
              "    }\n",
              "\n",
              "    .dataframe thead th {\n",
              "        text-align: right;\n",
              "    }\n",
              "</style>\n",
              "<table border=\"1\" class=\"dataframe\">\n",
              "  <thead>\n",
              "    <tr style=\"text-align: right;\">\n",
              "      <th></th>\n",
              "      <th>Mean RR (ms)</th>\n",
              "      <th>STD RR/SDNN (ms)</th>\n",
              "      <th>Mean HR (beats/min)</th>\n",
              "      <th>STD HR (beats/min)</th>\n",
              "      <th>Max HR (beats/min)</th>\n",
              "      <th>RMSSD (ms)</th>\n",
              "      <th>NNxx</th>\n",
              "      <th>pNNxx (%)</th>\n",
              "      <th>Power VLF (ms2)</th>\n",
              "      <th>Power LF (ms2)</th>\n",
              "      <th>Power HF (ms2)</th>\n",
              "      <th>Power Total (ms2)</th>\n",
              "      <th>LF/HF</th>\n",
              "      <th>Peak VLF (Hz)</th>\n",
              "      <th>Peak LF (Hz)</th>\n",
              "      <th>Peak HF (Hz)</th>\n",
              "      <th>Fraction HF (nu)</th>\n",
              "      <th>GSR_mean_h</th>\n",
              "      <th>GSR_median_h</th>\n",
              "    </tr>\n",
              "  </thead>\n",
              "  <tbody>\n",
              "    <tr>\n",
              "      <th>641</th>\n",
              "      <td>791.118421</td>\n",
              "      <td>70.842434</td>\n",
              "      <td>76.440531</td>\n",
              "      <td>6.704169</td>\n",
              "      <td>87.912088</td>\n",
              "      <td>50.121474</td>\n",
              "      <td>11.0</td>\n",
              "      <td>28.947368</td>\n",
              "      <td>1117.833978</td>\n",
              "      <td>503.821196</td>\n",
              "      <td>1219.226264</td>\n",
              "      <td>2840.881438</td>\n",
              "      <td>0.413230</td>\n",
              "      <td>0.034188</td>\n",
              "      <td>0.068376</td>\n",
              "      <td>0.273504</td>\n",
              "      <td>70.759877</td>\n",
              "      <td>6.478609</td>\n",
              "      <td>0.542223</td>\n",
              "    </tr>\n",
              "    <tr>\n",
              "      <th>185</th>\n",
              "      <td>834.785714</td>\n",
              "      <td>36.249982</td>\n",
              "      <td>72.010221</td>\n",
              "      <td>3.126706</td>\n",
              "      <td>80.267559</td>\n",
              "      <td>49.225621</td>\n",
              "      <td>11.0</td>\n",
              "      <td>31.428571</td>\n",
              "      <td>28.727183</td>\n",
              "      <td>183.612600</td>\n",
              "      <td>385.500369</td>\n",
              "      <td>597.840152</td>\n",
              "      <td>0.476297</td>\n",
              "      <td>0.035398</td>\n",
              "      <td>0.141593</td>\n",
              "      <td>0.318584</td>\n",
              "      <td>67.737056</td>\n",
              "      <td>6.926996</td>\n",
              "      <td>0.572482</td>\n",
              "    </tr>\n",
              "    <tr>\n",
              "      <th>298</th>\n",
              "      <td>914.062500</td>\n",
              "      <td>61.744654</td>\n",
              "      <td>65.952893</td>\n",
              "      <td>4.627417</td>\n",
              "      <td>76.923077</td>\n",
              "      <td>73.372118</td>\n",
              "      <td>14.0</td>\n",
              "      <td>43.750000</td>\n",
              "      <td>64.902561</td>\n",
              "      <td>1034.773728</td>\n",
              "      <td>1236.483285</td>\n",
              "      <td>2336.159574</td>\n",
              "      <td>0.836868</td>\n",
              "      <td>0.035398</td>\n",
              "      <td>0.106195</td>\n",
              "      <td>0.176991</td>\n",
              "      <td>54.440483</td>\n",
              "      <td>7.001206</td>\n",
              "      <td>0.451712</td>\n",
              "    </tr>\n",
              "    <tr>\n",
              "      <th>87</th>\n",
              "      <td>656.190476</td>\n",
              "      <td>78.089612</td>\n",
              "      <td>92.641171</td>\n",
              "      <td>10.267381</td>\n",
              "      <td>115.384615</td>\n",
              "      <td>100.748721</td>\n",
              "      <td>25.0</td>\n",
              "      <td>59.523810</td>\n",
              "      <td>268.380098</td>\n",
              "      <td>264.899979</td>\n",
              "      <td>1142.419749</td>\n",
              "      <td>1675.699826</td>\n",
              "      <td>0.231876</td>\n",
              "      <td>0.037383</td>\n",
              "      <td>0.112150</td>\n",
              "      <td>0.224299</td>\n",
              "      <td>81.176987</td>\n",
              "      <td>1.130910</td>\n",
              "      <td>0.020100</td>\n",
              "    </tr>\n",
              "    <tr>\n",
              "      <th>372</th>\n",
              "      <td>723.937500</td>\n",
              "      <td>89.592633</td>\n",
              "      <td>84.136110</td>\n",
              "      <td>10.281269</td>\n",
              "      <td>102.564103</td>\n",
              "      <td>121.826379</td>\n",
              "      <td>28.0</td>\n",
              "      <td>70.000000</td>\n",
              "      <td>69.367117</td>\n",
              "      <td>623.196972</td>\n",
              "      <td>1586.973096</td>\n",
              "      <td>2279.537185</td>\n",
              "      <td>0.392695</td>\n",
              "      <td>0.000000</td>\n",
              "      <td>0.071429</td>\n",
              "      <td>0.214286</td>\n",
              "      <td>71.803212</td>\n",
              "      <td>9.305135</td>\n",
              "      <td>1.154714</td>\n",
              "    </tr>\n",
              "  </tbody>\n",
              "</table>\n",
              "</div>\n",
              "      <button class=\"colab-df-convert\" onclick=\"convertToInteractive('df-92e0e619-3e93-48cb-a6fc-706c2a77708a')\"\n",
              "              title=\"Convert this dataframe to an interactive table.\"\n",
              "              style=\"display:none;\">\n",
              "        \n",
              "  <svg xmlns=\"http://www.w3.org/2000/svg\" height=\"24px\"viewBox=\"0 0 24 24\"\n",
              "       width=\"24px\">\n",
              "    <path d=\"M0 0h24v24H0V0z\" fill=\"none\"/>\n",
              "    <path d=\"M18.56 5.44l.94 2.06.94-2.06 2.06-.94-2.06-.94-.94-2.06-.94 2.06-2.06.94zm-11 1L8.5 8.5l.94-2.06 2.06-.94-2.06-.94L8.5 2.5l-.94 2.06-2.06.94zm10 10l.94 2.06.94-2.06 2.06-.94-2.06-.94-.94-2.06-.94 2.06-2.06.94z\"/><path d=\"M17.41 7.96l-1.37-1.37c-.4-.4-.92-.59-1.43-.59-.52 0-1.04.2-1.43.59L10.3 9.45l-7.72 7.72c-.78.78-.78 2.05 0 2.83L4 21.41c.39.39.9.59 1.41.59.51 0 1.02-.2 1.41-.59l7.78-7.78 2.81-2.81c.8-.78.8-2.07 0-2.86zM5.41 20L4 18.59l7.72-7.72 1.47 1.35L5.41 20z\"/>\n",
              "  </svg>\n",
              "      </button>\n",
              "      \n",
              "  <style>\n",
              "    .colab-df-container {\n",
              "      display:flex;\n",
              "      flex-wrap:wrap;\n",
              "      gap: 12px;\n",
              "    }\n",
              "\n",
              "    .colab-df-convert {\n",
              "      background-color: #E8F0FE;\n",
              "      border: none;\n",
              "      border-radius: 50%;\n",
              "      cursor: pointer;\n",
              "      display: none;\n",
              "      fill: #1967D2;\n",
              "      height: 32px;\n",
              "      padding: 0 0 0 0;\n",
              "      width: 32px;\n",
              "    }\n",
              "\n",
              "    .colab-df-convert:hover {\n",
              "      background-color: #E2EBFA;\n",
              "      box-shadow: 0px 1px 2px rgba(60, 64, 67, 0.3), 0px 1px 3px 1px rgba(60, 64, 67, 0.15);\n",
              "      fill: #174EA6;\n",
              "    }\n",
              "\n",
              "    [theme=dark] .colab-df-convert {\n",
              "      background-color: #3B4455;\n",
              "      fill: #D2E3FC;\n",
              "    }\n",
              "\n",
              "    [theme=dark] .colab-df-convert:hover {\n",
              "      background-color: #434B5C;\n",
              "      box-shadow: 0px 1px 3px 1px rgba(0, 0, 0, 0.15);\n",
              "      filter: drop-shadow(0px 1px 2px rgba(0, 0, 0, 0.3));\n",
              "      fill: #FFFFFF;\n",
              "    }\n",
              "  </style>\n",
              "\n",
              "      <script>\n",
              "        const buttonEl =\n",
              "          document.querySelector('#df-92e0e619-3e93-48cb-a6fc-706c2a77708a button.colab-df-convert');\n",
              "        buttonEl.style.display =\n",
              "          google.colab.kernel.accessAllowed ? 'block' : 'none';\n",
              "\n",
              "        async function convertToInteractive(key) {\n",
              "          const element = document.querySelector('#df-92e0e619-3e93-48cb-a6fc-706c2a77708a');\n",
              "          const dataTable =\n",
              "            await google.colab.kernel.invokeFunction('convertToInteractive',\n",
              "                                                     [key], {});\n",
              "          if (!dataTable) return;\n",
              "\n",
              "          const docLinkHtml = 'Like what you see? Visit the ' +\n",
              "            '<a target=\"_blank\" href=https://colab.research.google.com/notebooks/data_table.ipynb>data table notebook</a>'\n",
              "            + ' to learn more about interactive tables.';\n",
              "          element.innerHTML = '';\n",
              "          dataTable['output_type'] = 'display_data';\n",
              "          await google.colab.output.renderOutput(dataTable, element);\n",
              "          const docLink = document.createElement('div');\n",
              "          docLink.innerHTML = docLinkHtml;\n",
              "          element.appendChild(docLink);\n",
              "        }\n",
              "      </script>\n",
              "    </div>\n",
              "  </div>\n",
              "  "
            ]
          },
          "metadata": {},
          "execution_count": 15
        }
      ]
    },
    {
      "cell_type": "code",
      "metadata": {
        "colab": {
          "base_uri": "https://localhost:8080/"
        },
        "id": "SxSaEg3A5-6a",
        "outputId": "a187b031-e70c-4fc5-b6fc-175da8eb7e3d"
      },
      "source": [
        "y_train.head()"
      ],
      "execution_count": 16,
      "outputs": [
        {
          "output_type": "execute_result",
          "data": {
            "text/plain": [
              "641    1.0\n",
              "185    1.0\n",
              "298    1.0\n",
              "87     0.0\n",
              "372    1.0\n",
              "Name: stress_level, dtype: float64"
            ]
          },
          "metadata": {},
          "execution_count": 16
        }
      ]
    },
    {
      "cell_type": "code",
      "metadata": {
        "colab": {
          "base_uri": "https://localhost:8080/"
        },
        "id": "s3uaOiPizoVA",
        "outputId": "ef015752-d2ef-4d7b-941c-bd3ff5723e6d"
      },
      "source": [
        "x_train.shape"
      ],
      "execution_count": 17,
      "outputs": [
        {
          "output_type": "execute_result",
          "data": {
            "text/plain": [
              "(516, 19)"
            ]
          },
          "metadata": {},
          "execution_count": 17
        }
      ]
    },
    {
      "cell_type": "code",
      "metadata": {
        "colab": {
          "base_uri": "https://localhost:8080/"
        },
        "id": "oECyeuZ82b_z",
        "outputId": "f143d201-21e3-4560-e643-c4db8a38ec36"
      },
      "source": [
        "y_train.shape"
      ],
      "execution_count": 18,
      "outputs": [
        {
          "output_type": "execute_result",
          "data": {
            "text/plain": [
              "(516,)"
            ]
          },
          "metadata": {},
          "execution_count": 18
        }
      ]
    },
    {
      "cell_type": "code",
      "metadata": {
        "colab": {
          "base_uri": "https://localhost:8080/"
        },
        "id": "qJd6ffzaxs0p",
        "outputId": "ab5ac2d1-b044-47c2-bcda-059ccd74d76f"
      },
      "source": [
        "x_train_nor"
      ],
      "execution_count": 19,
      "outputs": [
        {
          "output_type": "execute_result",
          "data": {
            "text/plain": [
              "array([[-0.06518106,  0.08610479, -0.12502648, ...,  0.52795068,\n",
              "        -0.00662862,  0.63944446],\n",
              "       [ 0.26366687, -0.78631397, -0.43970217, ...,  0.39652478,\n",
              "         0.08250229,  0.72433932],\n",
              "       [ 0.86068137, -0.14334045, -0.86994152, ..., -0.18158219,\n",
              "         0.09725399,  0.38550897],\n",
              "       ...,\n",
              "       [-1.18229894, -0.02619859,  1.14692534, ..., -0.80000706,\n",
              "         0.69418701,  0.59960402],\n",
              "       [ 0.20461615,  0.1367714 , -0.36145206, ...,  1.06005157,\n",
              "        -1.09757773, -0.87748578],\n",
              "       [-1.89330925, -0.98334655,  2.23847259, ...,  0.96168579,\n",
              "         1.62044741,  0.98935672]])"
            ]
          },
          "metadata": {},
          "execution_count": 19
        }
      ]
    },
    {
      "cell_type": "markdown",
      "metadata": {
        "id": "LYEyW7-OZM-0"
      },
      "source": [
        "# **Gradient boosting**"
      ]
    },
    {
      "cell_type": "code",
      "metadata": {
        "colab": {
          "base_uri": "https://localhost:8080/"
        },
        "id": "Vd0rHEeAsK8m",
        "outputId": "1c2d19dd-56b1-43c5-d467-d2ea0c055553"
      },
      "source": [
        "lr_list = [0.01, 0.05, 0.075, 0.1, 0.14, 0.25, 0.5, 0.75,0.85,0.80, 1]\n",
        "from sklearn.metrics import roc_auc_score\n",
        "for learning_rate in lr_list:\n",
        "    gb_clf = GradientBoostingClassifier(n_estimators=100, learning_rate=learning_rate, max_features=5, max_depth=2, random_state=37)\n",
        "    gb_clf.fit(x_train_nor, y_train)\n",
        "    gb_clf.get_params()\n",
        "    AUC=roc_auc_score(y_train, gb_clf.decision_function(x_train_nor))\n",
        "    print(\"AUC =\" +str(AUC))\n",
        "\n",
        "    print(\"Learning rate: \", learning_rate)\n",
        "    print(\"Accuracy score (training): {0:.3f}\".format(gb_clf.score(x_train_nor, y_train)))\n",
        "    print(\"Accuracy score (validation): {0:.3f}\".format(gb_clf.score(x_test_nor, y_test)))\n",
        "    \n",
        "    print(classification_report(y_test,gb_clf.predict(x_test_nor),zero_division=1))\n",
        "    print(classification_report(y_train,gb_clf.predict(x_train_nor),zero_division=1))"
      ],
      "execution_count": null,
      "outputs": [
        {
          "output_type": "stream",
          "name": "stdout",
          "text": [
            "AUC =0.9399308426670676\n",
            "Learning rate:  0.01\n",
            "Accuracy score (training): 0.860\n",
            "Accuracy score (validation): 0.846\n",
            "              precision    recall  f1-score   support\n",
            "\n",
            "         0.0       0.91      0.81      0.85        72\n",
            "         1.0       0.79      0.90      0.84        58\n",
            "\n",
            "    accuracy                           0.85       130\n",
            "   macro avg       0.85      0.85      0.85       130\n",
            "weighted avg       0.85      0.85      0.85       130\n",
            "\n",
            "              precision    recall  f1-score   support\n",
            "\n",
            "         0.0       0.88      0.82      0.85       251\n",
            "         1.0       0.84      0.89      0.87       265\n",
            "\n",
            "    accuracy                           0.86       516\n",
            "   macro avg       0.86      0.86      0.86       516\n",
            "weighted avg       0.86      0.86      0.86       516\n",
            "\n",
            "AUC =0.9760054123130122\n",
            "Learning rate:  0.05\n",
            "Accuracy score (training): 0.917\n",
            "Accuracy score (validation): 0.846\n",
            "              precision    recall  f1-score   support\n",
            "\n",
            "         0.0       0.92      0.79      0.85        72\n",
            "         1.0       0.78      0.91      0.84        58\n",
            "\n",
            "    accuracy                           0.85       130\n",
            "   macro avg       0.85      0.85      0.85       130\n",
            "weighted avg       0.86      0.85      0.85       130\n",
            "\n",
            "              precision    recall  f1-score   support\n",
            "\n",
            "         0.0       0.92      0.91      0.91       251\n",
            "         1.0       0.91      0.92      0.92       265\n",
            "\n",
            "    accuracy                           0.92       516\n",
            "   macro avg       0.92      0.92      0.92       516\n",
            "weighted avg       0.92      0.92      0.92       516\n",
            "\n",
            "AUC =0.9875366458693527\n",
            "Learning rate:  0.075\n",
            "Accuracy score (training): 0.944\n",
            "Accuracy score (validation): 0.869\n",
            "              precision    recall  f1-score   support\n",
            "\n",
            "         0.0       0.95      0.81      0.87        72\n",
            "         1.0       0.80      0.95      0.87        58\n",
            "\n",
            "    accuracy                           0.87       130\n",
            "   macro avg       0.87      0.88      0.87       130\n",
            "weighted avg       0.88      0.87      0.87       130\n",
            "\n",
            "              precision    recall  f1-score   support\n",
            "\n",
            "         0.0       0.94      0.94      0.94       251\n",
            "         1.0       0.94      0.95      0.95       265\n",
            "\n",
            "    accuracy                           0.94       516\n",
            "   macro avg       0.94      0.94      0.94       516\n",
            "weighted avg       0.94      0.94      0.94       516\n",
            "\n",
            "AUC =0.9937908742388936\n",
            "Learning rate:  0.1\n",
            "Accuracy score (training): 0.963\n",
            "Accuracy score (validation): 0.885\n",
            "              precision    recall  f1-score   support\n",
            "\n",
            "         0.0       0.95      0.83      0.89        72\n",
            "         1.0       0.82      0.95      0.88        58\n",
            "\n",
            "    accuracy                           0.88       130\n",
            "   macro avg       0.89      0.89      0.88       130\n",
            "weighted avg       0.89      0.88      0.88       130\n",
            "\n",
            "              precision    recall  f1-score   support\n",
            "\n",
            "         0.0       0.96      0.96      0.96       251\n",
            "         1.0       0.96      0.97      0.96       265\n",
            "\n",
            "    accuracy                           0.96       516\n",
            "   macro avg       0.96      0.96      0.96       516\n",
            "weighted avg       0.96      0.96      0.96       516\n",
            "\n",
            "AUC =0.9973539803051943\n",
            "Learning rate:  0.14\n",
            "Accuracy score (training): 0.973\n",
            "Accuracy score (validation): 0.869\n",
            "              precision    recall  f1-score   support\n",
            "\n",
            "         0.0       0.92      0.83      0.88        72\n",
            "         1.0       0.82      0.91      0.86        58\n",
            "\n",
            "    accuracy                           0.87       130\n",
            "   macro avg       0.87      0.87      0.87       130\n",
            "weighted avg       0.88      0.87      0.87       130\n",
            "\n",
            "              precision    recall  f1-score   support\n",
            "\n",
            "         0.0       0.98      0.96      0.97       251\n",
            "         1.0       0.96      0.98      0.97       265\n",
            "\n",
            "    accuracy                           0.97       516\n",
            "   macro avg       0.97      0.97      0.97       516\n",
            "weighted avg       0.97      0.97      0.97       516\n",
            "\n",
            "AUC =0.9996692475381492\n",
            "Learning rate:  0.25\n",
            "Accuracy score (training): 0.990\n",
            "Accuracy score (validation): 0.915\n",
            "              precision    recall  f1-score   support\n",
            "\n",
            "         0.0       0.98      0.86      0.92        72\n",
            "         1.0       0.85      0.98      0.91        58\n",
            "\n",
            "    accuracy                           0.92       130\n",
            "   macro avg       0.92      0.92      0.92       130\n",
            "weighted avg       0.92      0.92      0.92       130\n",
            "\n",
            "              precision    recall  f1-score   support\n",
            "\n",
            "         0.0       0.99      0.99      0.99       251\n",
            "         1.0       0.99      0.99      0.99       265\n",
            "\n",
            "    accuracy                           0.99       516\n",
            "   macro avg       0.99      0.99      0.99       516\n",
            "weighted avg       0.99      0.99      0.99       516\n",
            "\n",
            "AUC =1.0\n",
            "Learning rate:  0.5\n",
            "Accuracy score (training): 1.000\n",
            "Accuracy score (validation): 0.900\n",
            "              precision    recall  f1-score   support\n",
            "\n",
            "         0.0       0.95      0.86      0.91        72\n",
            "         1.0       0.85      0.95      0.89        58\n",
            "\n",
            "    accuracy                           0.90       130\n",
            "   macro avg       0.90      0.90      0.90       130\n",
            "weighted avg       0.91      0.90      0.90       130\n",
            "\n",
            "              precision    recall  f1-score   support\n",
            "\n",
            "         0.0       1.00      1.00      1.00       251\n",
            "         1.0       1.00      1.00      1.00       265\n",
            "\n",
            "    accuracy                           1.00       516\n",
            "   macro avg       1.00      1.00      1.00       516\n",
            "weighted avg       1.00      1.00      1.00       516\n",
            "\n",
            "AUC =1.0\n",
            "Learning rate:  0.75\n",
            "Accuracy score (training): 1.000\n",
            "Accuracy score (validation): 0.908\n",
            "              precision    recall  f1-score   support\n",
            "\n",
            "         0.0       0.95      0.88      0.91        72\n",
            "         1.0       0.86      0.95      0.90        58\n",
            "\n",
            "    accuracy                           0.91       130\n",
            "   macro avg       0.91      0.91      0.91       130\n",
            "weighted avg       0.91      0.91      0.91       130\n",
            "\n",
            "              precision    recall  f1-score   support\n",
            "\n",
            "         0.0       1.00      1.00      1.00       251\n",
            "         1.0       1.00      1.00      1.00       265\n",
            "\n",
            "    accuracy                           1.00       516\n",
            "   macro avg       1.00      1.00      1.00       516\n",
            "weighted avg       1.00      1.00      1.00       516\n",
            "\n",
            "AUC =1.0\n",
            "Learning rate:  0.85\n",
            "Accuracy score (training): 1.000\n",
            "Accuracy score (validation): 0.915\n",
            "              precision    recall  f1-score   support\n",
            "\n",
            "         0.0       0.96      0.89      0.92        72\n",
            "         1.0       0.87      0.95      0.91        58\n",
            "\n",
            "    accuracy                           0.92       130\n",
            "   macro avg       0.91      0.92      0.91       130\n",
            "weighted avg       0.92      0.92      0.92       130\n",
            "\n",
            "              precision    recall  f1-score   support\n",
            "\n",
            "         0.0       1.00      1.00      1.00       251\n",
            "         1.0       1.00      1.00      1.00       265\n",
            "\n",
            "    accuracy                           1.00       516\n",
            "   macro avg       1.00      1.00      1.00       516\n",
            "weighted avg       1.00      1.00      1.00       516\n",
            "\n",
            "AUC =1.0\n",
            "Learning rate:  0.8\n",
            "Accuracy score (training): 1.000\n",
            "Accuracy score (validation): 0.923\n",
            "              precision    recall  f1-score   support\n",
            "\n",
            "         0.0       1.00      0.86      0.93        72\n",
            "         1.0       0.85      1.00      0.92        58\n",
            "\n",
            "    accuracy                           0.92       130\n",
            "   macro avg       0.93      0.93      0.92       130\n",
            "weighted avg       0.93      0.92      0.92       130\n",
            "\n",
            "              precision    recall  f1-score   support\n",
            "\n",
            "         0.0       1.00      1.00      1.00       251\n",
            "         1.0       1.00      1.00      1.00       265\n",
            "\n",
            "    accuracy                           1.00       516\n",
            "   macro avg       1.00      1.00      1.00       516\n",
            "weighted avg       1.00      1.00      1.00       516\n",
            "\n",
            "AUC =1.0\n",
            "Learning rate:  1\n",
            "Accuracy score (training): 1.000\n",
            "Accuracy score (validation): 0.877\n",
            "              precision    recall  f1-score   support\n",
            "\n",
            "         0.0       0.94      0.83      0.88        72\n",
            "         1.0       0.82      0.93      0.87        58\n",
            "\n",
            "    accuracy                           0.88       130\n",
            "   macro avg       0.88      0.88      0.88       130\n",
            "weighted avg       0.88      0.88      0.88       130\n",
            "\n",
            "              precision    recall  f1-score   support\n",
            "\n",
            "         0.0       1.00      1.00      1.00       251\n",
            "         1.0       1.00      1.00      1.00       265\n",
            "\n",
            "    accuracy                           1.00       516\n",
            "   macro avg       1.00      1.00      1.00       516\n",
            "weighted avg       1.00      1.00      1.00       516\n",
            "\n"
          ]
        }
      ]
    },
    {
      "cell_type": "code",
      "metadata": {
        "colab": {
          "base_uri": "https://localhost:8080/"
        },
        "id": "kgN6cBeQPgAc",
        "outputId": "40526319-049d-4720-ab9d-d144f0db6dbe"
      },
      "source": [
        "pip install pandas_ml"
      ],
      "execution_count": null,
      "outputs": [
        {
          "output_type": "stream",
          "name": "stdout",
          "text": [
            "Requirement already satisfied: pandas_ml in /usr/local/lib/python3.7/dist-packages (0.6.1)\n",
            "Requirement already satisfied: pandas>=0.19.0 in /usr/local/lib/python3.7/dist-packages (from pandas_ml) (1.1.5)\n",
            "Requirement already satisfied: enum34 in /usr/local/lib/python3.7/dist-packages (from pandas_ml) (1.1.10)\n",
            "Requirement already satisfied: pytz>=2017.2 in /usr/local/lib/python3.7/dist-packages (from pandas>=0.19.0->pandas_ml) (2018.9)\n",
            "Requirement already satisfied: python-dateutil>=2.7.3 in /usr/local/lib/python3.7/dist-packages (from pandas>=0.19.0->pandas_ml) (2.8.2)\n",
            "Requirement already satisfied: numpy>=1.15.4 in /usr/local/lib/python3.7/dist-packages (from pandas>=0.19.0->pandas_ml) (1.19.5)\n",
            "Requirement already satisfied: six>=1.5 in /usr/local/lib/python3.7/dist-packages (from python-dateutil>=2.7.3->pandas>=0.19.0->pandas_ml) (1.15.0)\n"
          ]
        }
      ]
    },
    {
      "cell_type": "code",
      "metadata": {
        "colab": {
          "base_uri": "https://localhost:8080/"
        },
        "id": "toCxgE_wQn_c",
        "outputId": "db6d7768-f62d-4ed7-f834-47cfbda1e9b3"
      },
      "source": [
        "!pip install scikit-learn==0.21.1\n",
        "!pip install pandas==0.24.2"
      ],
      "execution_count": null,
      "outputs": [
        {
          "output_type": "stream",
          "name": "stdout",
          "text": [
            "Requirement already satisfied: scikit-learn==0.21.1 in /usr/local/lib/python3.7/dist-packages (0.21.1)\n",
            "Requirement already satisfied: scipy>=0.17.0 in /usr/local/lib/python3.7/dist-packages (from scikit-learn==0.21.1) (1.4.1)\n",
            "Requirement already satisfied: joblib>=0.11 in /usr/local/lib/python3.7/dist-packages (from scikit-learn==0.21.1) (1.0.1)\n",
            "Requirement already satisfied: numpy>=1.11.0 in /usr/local/lib/python3.7/dist-packages (from scikit-learn==0.21.1) (1.19.5)\n",
            "Requirement already satisfied: pandas==0.24.2 in /usr/local/lib/python3.7/dist-packages (0.24.2)\n",
            "Requirement already satisfied: numpy>=1.12.0 in /usr/local/lib/python3.7/dist-packages (from pandas==0.24.2) (1.19.5)\n",
            "Requirement already satisfied: pytz>=2011k in /usr/local/lib/python3.7/dist-packages (from pandas==0.24.2) (2018.9)\n",
            "Requirement already satisfied: python-dateutil>=2.5.0 in /usr/local/lib/python3.7/dist-packages (from pandas==0.24.2) (2.8.2)\n",
            "Requirement already satisfied: six>=1.5 in /usr/local/lib/python3.7/dist-packages (from python-dateutil>=2.5.0->pandas==0.24.2) (1.15.0)\n"
          ]
        }
      ]
    },
    {
      "cell_type": "code",
      "metadata": {
        "id": "isAkUzp3z28g"
      },
      "source": [
        "cnf_matrix=confusion_matrix(gb_clf.predict(x_test_nor), y_test)"
      ],
      "execution_count": null,
      "outputs": []
    },
    {
      "cell_type": "code",
      "metadata": {
        "id": "M5gqKdY-Ra55"
      },
      "source": [
        "FP = cnf_matrix.sum(axis=0) - np.diag(cnf_matrix) \n",
        "FN = cnf_matrix.sum(axis=1) - np.diag(cnf_matrix)\n",
        "TP = np.diag(cnf_matrix)\n",
        "TN = cnf_matrix.sum() - (FP + FN + TP)\n",
        "\n",
        "FP = FP.astype(float)\n",
        "FN = FN.astype(float)\n",
        "TP = TP.astype(float)\n",
        "TN = TN.astype(float)# Sensitivity, hit rate, recall, or true positive rate\n",
        "TPR = TP/(TP+FN)\n",
        "# Specificity or true negative rate\n",
        "TNR = TN/(TN+FP) \n",
        "# Precision or positive predictive value\n",
        "PPV = TP/(TP+FP)\n",
        "# Negative predictive value\n",
        "NPV = TN/(TN+FN)\n",
        "# Fall out or false positive rate\n",
        "FPR = FP/(FP+TN)\n",
        "# False negative rate\n",
        "FNR = FN/(TP+FN)\n",
        "# False discovery rate\n",
        "FDR = FP/(TP+FP)\n",
        "# Overall accuracy for each class\n",
        "ACC = (TP+TN)/(TP+FP+FN+TN)"
      ],
      "execution_count": null,
      "outputs": []
    },
    {
      "cell_type": "code",
      "metadata": {
        "colab": {
          "base_uri": "https://localhost:8080/"
        },
        "id": "-w2iGKLeTfzE",
        "outputId": "a8bfeffa-18ad-4c4b-fa4b-837eb60a7079"
      },
      "source": [
        " for value in [FP,FN,TP,TN,TPR,TNR,PPV,NPV,FPR,FNR,FDR,ACC]:\n",
        "  print(value)"
      ],
      "execution_count": null,
      "outputs": [
        {
          "output_type": "stream",
          "name": "stdout",
          "text": [
            "[0. 0. 0.]\n",
            "[0. 0. 0.]\n",
            "[67. 65. 62.]\n",
            "[127. 129. 132.]\n",
            "[1. 1. 1.]\n",
            "[1. 1. 1.]\n",
            "[1. 1. 1.]\n",
            "[1. 1. 1.]\n",
            "[0. 0. 0.]\n",
            "[0. 0. 0.]\n",
            "[0. 0. 0.]\n",
            "[1. 1. 1.]\n"
          ]
        }
      ]
    },
    {
      "cell_type": "code",
      "metadata": {
        "colab": {
          "base_uri": "https://localhost:8080/",
          "height": 598
        },
        "id": "wmfQmMW6R8GU",
        "outputId": "6fece547-3e08-4170-b533-92646aff99d9"
      },
      "source": [
        "plt.bar(['FP','FN','TP','TN','TPR','TNR','PPV','NPV','FPR','FNR','FDR','ACC'],[FP,FN,TP,TN,TPR,TNR,PPV,NPV,FPR,FNR,FDR,ACC])"
      ],
      "execution_count": null,
      "outputs": [
        {
          "output_type": "error",
          "ename": "ValueError",
          "evalue": "ignored",
          "traceback": [
            "\u001b[0;31m---------------------------------------------------------------------------\u001b[0m",
            "\u001b[0;31mValueError\u001b[0m                                Traceback (most recent call last)",
            "\u001b[0;32m<ipython-input-31-6a2569f3fa0e>\u001b[0m in \u001b[0;36m<module>\u001b[0;34m()\u001b[0m\n\u001b[0;32m----> 1\u001b[0;31m \u001b[0mplt\u001b[0m\u001b[0;34m.\u001b[0m\u001b[0mbar\u001b[0m\u001b[0;34m(\u001b[0m\u001b[0;34m[\u001b[0m\u001b[0;34m'FP'\u001b[0m\u001b[0;34m,\u001b[0m\u001b[0;34m'FN'\u001b[0m\u001b[0;34m,\u001b[0m\u001b[0;34m'TP'\u001b[0m\u001b[0;34m,\u001b[0m\u001b[0;34m'TN'\u001b[0m\u001b[0;34m,\u001b[0m\u001b[0;34m'TPR'\u001b[0m\u001b[0;34m,\u001b[0m\u001b[0;34m'TNR'\u001b[0m\u001b[0;34m,\u001b[0m\u001b[0;34m'PPV'\u001b[0m\u001b[0;34m,\u001b[0m\u001b[0;34m'NPV'\u001b[0m\u001b[0;34m,\u001b[0m\u001b[0;34m'FPR'\u001b[0m\u001b[0;34m,\u001b[0m\u001b[0;34m'FNR'\u001b[0m\u001b[0;34m,\u001b[0m\u001b[0;34m'FDR'\u001b[0m\u001b[0;34m,\u001b[0m\u001b[0;34m'ACC'\u001b[0m\u001b[0;34m]\u001b[0m\u001b[0;34m,\u001b[0m\u001b[0;34m[\u001b[0m\u001b[0mFP\u001b[0m\u001b[0;34m,\u001b[0m\u001b[0mFN\u001b[0m\u001b[0;34m,\u001b[0m\u001b[0mTP\u001b[0m\u001b[0;34m,\u001b[0m\u001b[0mTN\u001b[0m\u001b[0;34m,\u001b[0m\u001b[0mTPR\u001b[0m\u001b[0;34m,\u001b[0m\u001b[0mTNR\u001b[0m\u001b[0;34m,\u001b[0m\u001b[0mPPV\u001b[0m\u001b[0;34m,\u001b[0m\u001b[0mNPV\u001b[0m\u001b[0;34m,\u001b[0m\u001b[0mFPR\u001b[0m\u001b[0;34m,\u001b[0m\u001b[0mFNR\u001b[0m\u001b[0;34m,\u001b[0m\u001b[0mFDR\u001b[0m\u001b[0;34m,\u001b[0m\u001b[0mACC\u001b[0m\u001b[0;34m]\u001b[0m\u001b[0;34m)\u001b[0m\u001b[0;34m\u001b[0m\u001b[0;34m\u001b[0m\u001b[0m\n\u001b[0m",
            "\u001b[0;32m/usr/local/lib/python3.7/dist-packages/matplotlib/pyplot.py\u001b[0m in \u001b[0;36mbar\u001b[0;34m(x, height, width, bottom, align, data, **kwargs)\u001b[0m\n\u001b[1;32m   2407\u001b[0m     return gca().bar(\n\u001b[1;32m   2408\u001b[0m         \u001b[0mx\u001b[0m\u001b[0;34m,\u001b[0m \u001b[0mheight\u001b[0m\u001b[0;34m,\u001b[0m \u001b[0mwidth\u001b[0m\u001b[0;34m=\u001b[0m\u001b[0mwidth\u001b[0m\u001b[0;34m,\u001b[0m \u001b[0mbottom\u001b[0m\u001b[0;34m=\u001b[0m\u001b[0mbottom\u001b[0m\u001b[0;34m,\u001b[0m \u001b[0malign\u001b[0m\u001b[0;34m=\u001b[0m\u001b[0malign\u001b[0m\u001b[0;34m,\u001b[0m\u001b[0;34m\u001b[0m\u001b[0;34m\u001b[0m\u001b[0m\n\u001b[0;32m-> 2409\u001b[0;31m         **({\"data\": data} if data is not None else {}), **kwargs)\n\u001b[0m\u001b[1;32m   2410\u001b[0m \u001b[0;34m\u001b[0m\u001b[0m\n\u001b[1;32m   2411\u001b[0m \u001b[0;34m\u001b[0m\u001b[0m\n",
            "\u001b[0;32m/usr/local/lib/python3.7/dist-packages/matplotlib/__init__.py\u001b[0m in \u001b[0;36minner\u001b[0;34m(ax, data, *args, **kwargs)\u001b[0m\n\u001b[1;32m   1563\u001b[0m     \u001b[0;32mdef\u001b[0m \u001b[0minner\u001b[0m\u001b[0;34m(\u001b[0m\u001b[0max\u001b[0m\u001b[0;34m,\u001b[0m \u001b[0;34m*\u001b[0m\u001b[0margs\u001b[0m\u001b[0;34m,\u001b[0m \u001b[0mdata\u001b[0m\u001b[0;34m=\u001b[0m\u001b[0;32mNone\u001b[0m\u001b[0;34m,\u001b[0m \u001b[0;34m**\u001b[0m\u001b[0mkwargs\u001b[0m\u001b[0;34m)\u001b[0m\u001b[0;34m:\u001b[0m\u001b[0;34m\u001b[0m\u001b[0;34m\u001b[0m\u001b[0m\n\u001b[1;32m   1564\u001b[0m         \u001b[0;32mif\u001b[0m \u001b[0mdata\u001b[0m \u001b[0;32mis\u001b[0m \u001b[0;32mNone\u001b[0m\u001b[0;34m:\u001b[0m\u001b[0;34m\u001b[0m\u001b[0;34m\u001b[0m\u001b[0m\n\u001b[0;32m-> 1565\u001b[0;31m             \u001b[0;32mreturn\u001b[0m \u001b[0mfunc\u001b[0m\u001b[0;34m(\u001b[0m\u001b[0max\u001b[0m\u001b[0;34m,\u001b[0m \u001b[0;34m*\u001b[0m\u001b[0mmap\u001b[0m\u001b[0;34m(\u001b[0m\u001b[0msanitize_sequence\u001b[0m\u001b[0;34m,\u001b[0m \u001b[0margs\u001b[0m\u001b[0;34m)\u001b[0m\u001b[0;34m,\u001b[0m \u001b[0;34m**\u001b[0m\u001b[0mkwargs\u001b[0m\u001b[0;34m)\u001b[0m\u001b[0;34m\u001b[0m\u001b[0;34m\u001b[0m\u001b[0m\n\u001b[0m\u001b[1;32m   1566\u001b[0m \u001b[0;34m\u001b[0m\u001b[0m\n\u001b[1;32m   1567\u001b[0m         \u001b[0mbound\u001b[0m \u001b[0;34m=\u001b[0m \u001b[0mnew_sig\u001b[0m\u001b[0;34m.\u001b[0m\u001b[0mbind\u001b[0m\u001b[0;34m(\u001b[0m\u001b[0max\u001b[0m\u001b[0;34m,\u001b[0m \u001b[0;34m*\u001b[0m\u001b[0margs\u001b[0m\u001b[0;34m,\u001b[0m \u001b[0;34m**\u001b[0m\u001b[0mkwargs\u001b[0m\u001b[0;34m)\u001b[0m\u001b[0;34m\u001b[0m\u001b[0;34m\u001b[0m\u001b[0m\n",
            "\u001b[0;32m/usr/local/lib/python3.7/dist-packages/matplotlib/axes/_axes.py\u001b[0m in \u001b[0;36mbar\u001b[0;34m(self, x, height, width, bottom, align, **kwargs)\u001b[0m\n\u001b[1;32m   2340\u001b[0m         x, height, width, y, linewidth = np.broadcast_arrays(\n\u001b[1;32m   2341\u001b[0m             \u001b[0;31m# Make args iterable too.\u001b[0m\u001b[0;34m\u001b[0m\u001b[0;34m\u001b[0m\u001b[0;34m\u001b[0m\u001b[0m\n\u001b[0;32m-> 2342\u001b[0;31m             np.atleast_1d(x), height, width, y, linewidth)\n\u001b[0m\u001b[1;32m   2343\u001b[0m \u001b[0;34m\u001b[0m\u001b[0m\n\u001b[1;32m   2344\u001b[0m         \u001b[0;31m# Now that units have been converted, set the tick locations.\u001b[0m\u001b[0;34m\u001b[0m\u001b[0;34m\u001b[0m\u001b[0;34m\u001b[0m\u001b[0m\n",
            "\u001b[0;32m<__array_function__ internals>\u001b[0m in \u001b[0;36mbroadcast_arrays\u001b[0;34m(*args, **kwargs)\u001b[0m\n",
            "\u001b[0;32m/usr/local/lib/python3.7/dist-packages/numpy/lib/stride_tricks.py\u001b[0m in \u001b[0;36mbroadcast_arrays\u001b[0;34m(subok, *args)\u001b[0m\n\u001b[1;32m    256\u001b[0m     \u001b[0margs\u001b[0m \u001b[0;34m=\u001b[0m \u001b[0;34m[\u001b[0m\u001b[0mnp\u001b[0m\u001b[0;34m.\u001b[0m\u001b[0marray\u001b[0m\u001b[0;34m(\u001b[0m\u001b[0m_m\u001b[0m\u001b[0;34m,\u001b[0m \u001b[0mcopy\u001b[0m\u001b[0;34m=\u001b[0m\u001b[0;32mFalse\u001b[0m\u001b[0;34m,\u001b[0m \u001b[0msubok\u001b[0m\u001b[0;34m=\u001b[0m\u001b[0msubok\u001b[0m\u001b[0;34m)\u001b[0m \u001b[0;32mfor\u001b[0m \u001b[0m_m\u001b[0m \u001b[0;32min\u001b[0m \u001b[0margs\u001b[0m\u001b[0;34m]\u001b[0m\u001b[0;34m\u001b[0m\u001b[0;34m\u001b[0m\u001b[0m\n\u001b[1;32m    257\u001b[0m \u001b[0;34m\u001b[0m\u001b[0m\n\u001b[0;32m--> 258\u001b[0;31m     \u001b[0mshape\u001b[0m \u001b[0;34m=\u001b[0m \u001b[0m_broadcast_shape\u001b[0m\u001b[0;34m(\u001b[0m\u001b[0;34m*\u001b[0m\u001b[0margs\u001b[0m\u001b[0;34m)\u001b[0m\u001b[0;34m\u001b[0m\u001b[0;34m\u001b[0m\u001b[0m\n\u001b[0m\u001b[1;32m    259\u001b[0m \u001b[0;34m\u001b[0m\u001b[0m\n\u001b[1;32m    260\u001b[0m     \u001b[0;32mif\u001b[0m \u001b[0mall\u001b[0m\u001b[0;34m(\u001b[0m\u001b[0marray\u001b[0m\u001b[0;34m.\u001b[0m\u001b[0mshape\u001b[0m \u001b[0;34m==\u001b[0m \u001b[0mshape\u001b[0m \u001b[0;32mfor\u001b[0m \u001b[0marray\u001b[0m \u001b[0;32min\u001b[0m \u001b[0margs\u001b[0m\u001b[0;34m)\u001b[0m\u001b[0;34m:\u001b[0m\u001b[0;34m\u001b[0m\u001b[0;34m\u001b[0m\u001b[0m\n",
            "\u001b[0;32m/usr/local/lib/python3.7/dist-packages/numpy/lib/stride_tricks.py\u001b[0m in \u001b[0;36m_broadcast_shape\u001b[0;34m(*args)\u001b[0m\n\u001b[1;32m    187\u001b[0m     \u001b[0;31m# use the old-iterator because np.nditer does not handle size 0 arrays\u001b[0m\u001b[0;34m\u001b[0m\u001b[0;34m\u001b[0m\u001b[0;34m\u001b[0m\u001b[0m\n\u001b[1;32m    188\u001b[0m     \u001b[0;31m# consistently\u001b[0m\u001b[0;34m\u001b[0m\u001b[0;34m\u001b[0m\u001b[0;34m\u001b[0m\u001b[0m\n\u001b[0;32m--> 189\u001b[0;31m     \u001b[0mb\u001b[0m \u001b[0;34m=\u001b[0m \u001b[0mnp\u001b[0m\u001b[0;34m.\u001b[0m\u001b[0mbroadcast\u001b[0m\u001b[0;34m(\u001b[0m\u001b[0;34m*\u001b[0m\u001b[0margs\u001b[0m\u001b[0;34m[\u001b[0m\u001b[0;34m:\u001b[0m\u001b[0;36m32\u001b[0m\u001b[0;34m]\u001b[0m\u001b[0;34m)\u001b[0m\u001b[0;34m\u001b[0m\u001b[0;34m\u001b[0m\u001b[0m\n\u001b[0m\u001b[1;32m    190\u001b[0m     \u001b[0;31m# unfortunately, it cannot handle 32 or more arguments directly\u001b[0m\u001b[0;34m\u001b[0m\u001b[0;34m\u001b[0m\u001b[0;34m\u001b[0m\u001b[0m\n\u001b[1;32m    191\u001b[0m     \u001b[0;32mfor\u001b[0m \u001b[0mpos\u001b[0m \u001b[0;32min\u001b[0m \u001b[0mrange\u001b[0m\u001b[0;34m(\u001b[0m\u001b[0;36m32\u001b[0m\u001b[0;34m,\u001b[0m \u001b[0mlen\u001b[0m\u001b[0;34m(\u001b[0m\u001b[0margs\u001b[0m\u001b[0;34m)\u001b[0m\u001b[0;34m,\u001b[0m \u001b[0;36m31\u001b[0m\u001b[0;34m)\u001b[0m\u001b[0;34m:\u001b[0m\u001b[0;34m\u001b[0m\u001b[0;34m\u001b[0m\u001b[0m\n",
            "\u001b[0;31mValueError\u001b[0m: shape mismatch: objects cannot be broadcast to a single shape"
          ]
        },
        {
          "output_type": "display_data",
          "data": {
            "image/png": "[encoded data removed]",
            "text/plain": [
              "<Figure size 432x288 with 1 Axes>"
            ]
          },
          "metadata": {
            "needs_background": "light"
          }
        }
      ]
    },
    {
      "cell_type": "markdown",
      "metadata": {
        "id": "FFkPGhEHZQD3"
      },
      "source": [
        "# **K-fold Cross validation**"
      ]
    },
    {
      "cell_type": "code",
      "metadata": {
        "colab": {
          "base_uri": "https://localhost:8080/"
        },
        "id": "_JxzBOdsx1oa",
        "outputId": "df0a1d89-3bfd-47df-c572-20196e583ac1"
      },
      "source": [
        "x_train_nor.shape"
      ],
      "execution_count": null,
      "outputs": [
        {
          "output_type": "execute_result",
          "data": {
            "text/plain": [
              "(775, 20)"
            ]
          },
          "metadata": {},
          "execution_count": 106
        }
      ]
    },
    {
      "cell_type": "code",
      "metadata": {
        "colab": {
          "base_uri": "https://localhost:8080/"
        },
        "id": "e9boCRMmEhyg",
        "outputId": "5da28e75-ff09-429a-96bd-5c33c1ce17d8"
      },
      "source": [
        "from sklearn.model_selection import KFold\n",
        "kf = KFold(n_splits=5)\n",
        "lr_list = [0.01, 0.05, 0.075, 0.1, 0.14, 0.25, 0.5, 0.75,0.85,0.80, 1]\n",
        "\n",
        "#for learning_rate in lr_list:\n",
        "clf = GradientBoostingClassifier(n_estimators=100, learning_rate=0.15, max_features=20, max_depth=2, random_state=37)\n",
        "     #print(\"Learning rate: \", learning_rate)\n",
        "accuracy=[]     \n",
        "for train_indices, test_indices in kf.split(x.to_numpy()):\n",
        "  clf.fit(x.to_numpy()[train_indices], y.to_numpy()[train_indices])\n",
        "  print(\"Accuracy:\", clf.score(x.to_numpy()[test_indices], y.to_numpy()[test_indices]))\n",
        "  accuracy.append(clf.score(x.to_numpy()[test_indices], y.to_numpy()[test_indices]))\n",
        "\n",
        "print(np.mean(accuracy)"
      ],
      "execution_count": null,
      "outputs": [
        {
          "output_type": "stream",
          "name": "stdout",
          "text": [
            "Accuracy: 1.0\n",
            "Accuracy: 1.0\n",
            "Accuracy: 1.0\n",
            "Accuracy: 1.0\n",
            "Accuracy: 1.0\n"
          ]
        },
        {
          "output_type": "execute_result",
          "data": {
            "text/plain": [
              "1.0"
            ]
          },
          "metadata": {},
          "execution_count": 111
        }
      ]
    },
    {
      "cell_type": "code",
      "metadata": {
        "colab": {
          "base_uri": "https://localhost:8080/",
          "height": 321
        },
        "id": "jraa4KbW1IPf",
        "outputId": "ff80b130-89a0-4813-d161-cd68a095883c"
      },
      "source": [
        "from sklearn import datasets, metrics, model_selection, svm\n",
        " \n",
        "metrics.plot_roc_curve(gb_clf, x_test_nor, y_test)  \n",
        "plt.show()"
      ],
      "execution_count": null,
      "outputs": [
        {
          "output_type": "error",
          "ename": "ValueError",
          "evalue": "ignored",
          "traceback": [
            "\u001b[0;31m---------------------------------------------------------------------------\u001b[0m",
            "\u001b[0;31mValueError\u001b[0m                                Traceback (most recent call last)",
            "\u001b[0;32m<ipython-input-119-f4d1f03d57b0>\u001b[0m in \u001b[0;36m<module>\u001b[0;34m()\u001b[0m\n\u001b[1;32m      1\u001b[0m \u001b[0;32mfrom\u001b[0m \u001b[0msklearn\u001b[0m \u001b[0;32mimport\u001b[0m \u001b[0mdatasets\u001b[0m\u001b[0;34m,\u001b[0m \u001b[0mmetrics\u001b[0m\u001b[0;34m,\u001b[0m \u001b[0mmodel_selection\u001b[0m\u001b[0;34m,\u001b[0m \u001b[0msvm\u001b[0m\u001b[0;34m\u001b[0m\u001b[0;34m\u001b[0m\u001b[0m\n\u001b[0;32m----> 2\u001b[0;31m \u001b[0mmetrics\u001b[0m\u001b[0;34m.\u001b[0m\u001b[0mplot_roc_curve\u001b[0m\u001b[0;34m(\u001b[0m\u001b[0mgb_clf\u001b[0m\u001b[0;34m,\u001b[0m \u001b[0mx_test_nor\u001b[0m\u001b[0;34m,\u001b[0m \u001b[0my_test\u001b[0m\u001b[0;34m)\u001b[0m\u001b[0;34m\u001b[0m\u001b[0;34m\u001b[0m\u001b[0m\n\u001b[0m\u001b[1;32m      3\u001b[0m \u001b[0mplt\u001b[0m\u001b[0;34m.\u001b[0m\u001b[0mshow\u001b[0m\u001b[0;34m(\u001b[0m\u001b[0;34m)\u001b[0m\u001b[0;34m\u001b[0m\u001b[0;34m\u001b[0m\u001b[0m\n",
            "\u001b[0;32m/usr/local/lib/python3.7/dist-packages/sklearn/metrics/_plot/roc_curve.py\u001b[0m in \u001b[0;36mplot_roc_curve\u001b[0;34m(estimator, X, y, sample_weight, drop_intermediate, response_method, name, ax, **kwargs)\u001b[0m\n\u001b[1;32m    178\u001b[0m     \u001b[0;32mif\u001b[0m \u001b[0my_pred\u001b[0m\u001b[0;34m.\u001b[0m\u001b[0mndim\u001b[0m \u001b[0;34m!=\u001b[0m \u001b[0;36m1\u001b[0m\u001b[0;34m:\u001b[0m\u001b[0;34m\u001b[0m\u001b[0;34m\u001b[0m\u001b[0m\n\u001b[1;32m    179\u001b[0m         \u001b[0;32mif\u001b[0m \u001b[0my_pred\u001b[0m\u001b[0;34m.\u001b[0m\u001b[0mshape\u001b[0m\u001b[0;34m[\u001b[0m\u001b[0;36m1\u001b[0m\u001b[0;34m]\u001b[0m \u001b[0;34m!=\u001b[0m \u001b[0;36m2\u001b[0m\u001b[0;34m:\u001b[0m\u001b[0;34m\u001b[0m\u001b[0;34m\u001b[0m\u001b[0m\n\u001b[0;32m--> 180\u001b[0;31m             \u001b[0;32mraise\u001b[0m \u001b[0mValueError\u001b[0m\u001b[0;34m(\u001b[0m\u001b[0mclassification_error\u001b[0m\u001b[0;34m)\u001b[0m\u001b[0;34m\u001b[0m\u001b[0;34m\u001b[0m\u001b[0m\n\u001b[0m\u001b[1;32m    181\u001b[0m         \u001b[0;32melse\u001b[0m\u001b[0;34m:\u001b[0m\u001b[0;34m\u001b[0m\u001b[0;34m\u001b[0m\u001b[0m\n\u001b[1;32m    182\u001b[0m             \u001b[0my_pred\u001b[0m \u001b[0;34m=\u001b[0m \u001b[0my_pred\u001b[0m\u001b[0;34m[\u001b[0m\u001b[0;34m:\u001b[0m\u001b[0;34m,\u001b[0m \u001b[0;36m1\u001b[0m\u001b[0;34m]\u001b[0m\u001b[0;34m\u001b[0m\u001b[0;34m\u001b[0m\u001b[0m\n",
            "\u001b[0;31mValueError\u001b[0m: GradientBoostingClassifier should be a binary classifier"
          ]
        }
      ]
    },
    {
      "cell_type": "code",
      "metadata": {
        "colab": {
          "base_uri": "https://localhost:8080/",
          "height": 331
        },
        "id": "CmU43VZGuYdb",
        "outputId": "32847237-66d7-4e82-854c-71d28e38e246"
      },
      "source": [
        "\n",
        "import numpy as np\n",
        "import matplotlib.pyplot as plt\n",
        "from itertools import cycle\n",
        "\n",
        "from sklearn import svm, datasets\n",
        "from sklearn.metrics import roc_curve, auc\n",
        "from sklearn.model_selection import train_test_split\n",
        "from sklearn.preprocessing import label_binarize\n",
        "from sklearn.multiclass import OneVsRestClassifier\n",
        "from scipy import interp\n",
        "from sklearn.metrics import roc_auc_score\n",
        "\n",
        "y_train_1 = label_binarize(y_train, classes=[0, 1, 2])\n",
        "y_test = label_binarize(y_test, classes=[0, 1, 2])\n",
        "\n",
        "n_classes=3\n",
        "\n",
        "y_score = clf.fit(x_train_nor, y_train).decision_function(x_test_nor)\n",
        "\n",
        "fpr = dict()\n",
        "tpr = dict()\n",
        "roc_auc = dict()\n",
        "for i in range(n_classes):\n",
        "    fpr[i], tpr[i], _ = roc_curve(y_test[:, i], y_score[:, i])\n",
        "    roc_auc[i] = auc(fpr[i], tpr[i])\n",
        "\n",
        "# Compute micro-average ROC curve and ROC area\n",
        "fpr[\"micro\"], tpr[\"micro\"], _ = roc_curve(y_test.ravel(), y_score.ravel())\n",
        "roc_auc[\"micro\"] = auc(fpr[\"micro\"], tpr[\"micro\"])\n",
        "\n",
        "# Compute micro-average ROC curve and ROC area\n",
        "fpr[\"micro\"], tpr[\"micro\"], _ = roc_curve(y_test.ravel(), y_score.ravel())\n",
        "roc_auc[\"micro\"] = auc(fpr[\"micro\"], tpr[\"micro\"])\n",
        "# First aggregate all false positive rates\n",
        "all_fpr = np.unique(np.concatenate([fpr[i] for i in range(n_classes)]))\n",
        "\n",
        "# Then interpolate all ROC curves at this points\n",
        "mean_tpr = np.zeros_like(all_fpr)\n",
        "for i in range(n_classes):\n",
        "    mean_tpr += interp(all_fpr, fpr[i], tpr[i])\n",
        "\n",
        "# Finally average it and compute AUC\n",
        "mean_tpr /= n_classes\n",
        "\n",
        "fpr[\"macro\"] = all_fpr\n",
        "tpr[\"macro\"] = mean_tpr\n",
        "roc_auc[\"macro\"] = auc(fpr[\"macro\"], tpr[\"macro\"])\n",
        "\n",
        "# Plot all ROC curves\n",
        "plt.figure()\n",
        "plt.plot(fpr[\"micro\"], tpr[\"micro\"],\n",
        "         label='micro-average ROC curve (area = {0:0.2f})'\n",
        "               ''.format(roc_auc[\"micro\"]),\n",
        "         color='deeppink', linestyle=':', linewidth=4)\n",
        "\n",
        "plt.plot(fpr[\"macro\"], tpr[\"macro\"],\n",
        "         label='macro-average ROC curve (area = {0:0.2f})'\n",
        "               ''.format(roc_auc[\"macro\"]),\n",
        "         color='navy', linestyle=':', linewidth=4)\n",
        "lw=2\n",
        "colors = cycle(['aqua', 'darkorange', 'cornflowerblue'])\n",
        "for i, color in zip(range(n_classes), colors):\n",
        "    plt.plot(fpr[i], tpr[i], color=color, lw=lw,\n",
        "             label='ROC curve of class {0} (area = {1:0.2f})'\n",
        "             ''.format(i, roc_auc[i]))\n",
        "\n",
        "plt.plot([0, 1], [0, 1], 'k--', lw=lw)\n",
        "plt.xlim([0.0, 1.0])\n",
        "plt.ylim([0.0, 1.05])\n",
        "plt.xlabel('False Positive Rate')\n",
        "plt.ylabel('True Positive Rate')\n",
        "plt.title('Some extension of Receiver operating characteristic to multi-class')\n",
        "plt.legend(loc=\"lower right\")\n",
        "plt.show()"
      ],
      "execution_count": null,
      "outputs": [
        {
          "output_type": "stream",
          "name": "stderr",
          "text": [
            "/usr/local/lib/python3.7/dist-packages/ipykernel_launcher.py:41: DeprecationWarning: scipy.interp is deprecated and will be removed in SciPy 2.0.0, use numpy.interp instead\n"
          ]
        },
        {
          "output_type": "display_data",
          "data": {
            "image/png": "[encoded data removed]",
            "text/plain": [
              "<Figure size 432x288 with 1 Axes>"
            ]
          },
          "metadata": {
            "needs_background": "light"
          }
        }
      ]
    },
    {
      "cell_type": "markdown",
      "metadata": {
        "id": "i_63qb96ZYFc"
      },
      "source": [
        "# **Validation curve [Knn]**"
      ]
    },
    {
      "cell_type": "code",
      "metadata": {
        "id": "N3PR3EpRo_IG",
        "colab": {
          "base_uri": "https://localhost:8080/",
          "height": 297
        },
        "outputId": "6324f7a9-7b71-45d2-e8d4-86750fb48176"
      },
      "source": [
        "# Import Required libraries\n",
        "from sklearn.neighbors import KNeighborsClassifier\n",
        "from sklearn.model_selection import validation_curve\n",
        "\n",
        "# Setting the range for the parameter (from 1 to 10)\n",
        "parameter_range = np.arange(1, 10, 1)\n",
        "\n",
        "# Calculate accuracy on training and test set using the\n",
        "# gamma parameter with 5-fold cross validation\n",
        "train_score, test_score = validation_curve(KNeighborsClassifier(), x, y,\n",
        "\t\t\t\t\t\t\t\t\tparam_name = \"n_neighbors\",\n",
        "\t\t\t\t\t\t\t\t\tparam_range = parameter_range,\n",
        "\t\t\t\t\t\t\t\t\t\tcv = 5, scoring = \"accuracy\")\n",
        "\n",
        "# Calculating mean and standard deviation of training score\n",
        "mean_train_score = np.mean(train_score, axis = 1)\n",
        "std_train_score = np.std(train_score, axis = 1)\n",
        "\n",
        "# Calculating mean and standard deviation of testing score\n",
        "mean_test_score = np.mean(test_score, axis = 1)\n",
        "std_test_score = np.std(test_score, axis = 1)\n",
        "\n",
        "# Plot mean accuracy scores for training and testing scores\n",
        "plt.plot(parameter_range, mean_train_score,\n",
        "\tlabel = \"Training Score\", color = 'b')\n",
        "plt.plot(parameter_range, mean_test_score,\n",
        "label = \"Cross Validation Score\", color = 'g')\n",
        "\n",
        "# Creating the plot\n",
        "plt.title(\"Validation Curve with KNN Classifier\")\n",
        "plt.xlabel(\"Number of Neighbours\")\n",
        "plt.ylabel(\"Accuracy\")\n",
        "plt.tight_layout()\n",
        "plt.legend(loc = 'best')\n",
        "plt.show()\n",
        "\n"
      ],
      "execution_count": null,
      "outputs": [
        {
          "output_type": "display_data",
          "data": {
            "image/png": "[encoded data removed]",
            "text/plain": [
              "<Figure size 432x288 with 1 Axes>"
            ]
          },
          "metadata": {
            "needs_background": "light"
          }
        }
      ]
    },
    {
      "cell_type": "markdown",
      "metadata": {
        "id": "SNp2qbvcXOnX"
      },
      "source": [
        "# **MLP Classifier**"
      ]
    },
    {
      "cell_type": "code",
      "metadata": {
        "colab": {
          "base_uri": "https://localhost:8080/",
          "height": 567
        },
        "id": "HQ5oEnyoWUFO",
        "outputId": "c765bf83-1328-4d34-bab7-4d91284b9d2c"
      },
      "source": [
        "clf = MLPClassifier(activation='relu', alpha=0.0001,\n",
        "                                     batch_size='auto', beta_1=0.9,\n",
        "                                     beta_2=0.999, early_stopping=False,\n",
        "                                     epsilon=1e-08, hidden_layer_sizes=(32,16,16),\n",
        "                                     learning_rate='constant',\n",
        "                                     learning_rate_init=0.001, max_fun=15000,\n",
        "                                     max_iter=100, momentum=0.9,\n",
        "                                     n_iter_no_change=10,\n",
        "                                     nesterovs_momentum=True, power_t=0.5,\n",
        "                                     random_state=1,\n",
        "                                     solver='adam', tol=0.0001,\n",
        "                                     validation_fraction=0.1, verbose=False,\n",
        "                                     warm_start=False).fit(x_train_nor, y_train)\n",
        "y_pred=clf.predict(x_test_nor)\n",
        "print(y_pred)\n",
        "print(clf.score(x_test_nor, y_test))\n",
        "print(clf.score(x_train_nor, y_train))\n",
        "print(classification_report(y_test,y_pred,zero_division='warn'))\n",
        "AUC=roc_auc_score(y_train, clf.decision_function(x_train_nor))\n",
        "print(\"AUC =\" +str(AUC))"
      ],
      "execution_count": null,
      "outputs": [
        {
          "output_type": "stream",
          "name": "stdout",
          "text": [
            "[1. 0. 1. 0. 1. 1. 1. 1. 1. 1. 1. 1. 1. 1. 0. 1. 1. 1. 1. 1. 1. 0. 1. 0.\n",
            " 0. 0. 1. 0. 1. 1. 1. 0. 1. 0. 0. 0. 0. 1. 1. 1. 0. 1. 0. 0. 0. 1. 1. 0.\n",
            " 0. 1. 0. 1. 0. 0. 0. 1. 0. 1. 1. 0. 0. 1. 1. 0. 0. 1. 1. 0. 0. 0. 0. 0.\n",
            " 1. 0. 0. 0. 0. 1. 0. 0. 1. 1. 0. 1. 0. 0. 1. 1. 1. 1. 1. 0. 0. 1. 1. 0.\n",
            " 1. 1. 1. 1. 0. 1. 0. 1. 0. 1. 0. 0. 1. 0. 0. 0. 0. 1. 0. 0. 0. 1. 1. 0.\n",
            " 0. 1. 0. 1. 0. 0. 1. 1. 1. 1.]\n",
            "0.8461538461538461\n",
            "0.9418604651162791\n",
            "              precision    recall  f1-score   support\n",
            "\n",
            "         0.0       0.92      0.79      0.85        72\n",
            "         1.0       0.78      0.91      0.84        58\n",
            "\n",
            "    accuracy                           0.85       130\n",
            "   macro avg       0.85      0.85      0.85       130\n",
            "weighted avg       0.86      0.85      0.85       130\n",
            "\n"
          ]
        },
        {
          "output_type": "stream",
          "name": "stderr",
          "text": [
            "/usr/local/lib/python3.7/dist-packages/sklearn/neural_network/_multilayer_perceptron.py:696: ConvergenceWarning: Stochastic Optimizer: Maximum iterations (100) reached and the optimization hasn't converged yet.\n",
            "  ConvergenceWarning,\n"
          ]
        },
        {
          "output_type": "error",
          "ename": "AttributeError",
          "evalue": "ignored",
          "traceback": [
            "\u001b[0;31m---------------------------------------------------------------------------\u001b[0m",
            "\u001b[0;31mAttributeError\u001b[0m                            Traceback (most recent call last)",
            "\u001b[0;32m<ipython-input-41-7f2f90cf3afc>\u001b[0m in \u001b[0;36m<module>\u001b[0;34m()\u001b[0m\n\u001b[1;32m     17\u001b[0m \u001b[0mprint\u001b[0m\u001b[0;34m(\u001b[0m\u001b[0mclf\u001b[0m\u001b[0;34m.\u001b[0m\u001b[0mscore\u001b[0m\u001b[0;34m(\u001b[0m\u001b[0mx_train_nor\u001b[0m\u001b[0;34m,\u001b[0m \u001b[0my_train\u001b[0m\u001b[0;34m)\u001b[0m\u001b[0;34m)\u001b[0m\u001b[0;34m\u001b[0m\u001b[0;34m\u001b[0m\u001b[0m\n\u001b[1;32m     18\u001b[0m \u001b[0mprint\u001b[0m\u001b[0;34m(\u001b[0m\u001b[0mclassification_report\u001b[0m\u001b[0;34m(\u001b[0m\u001b[0my_test\u001b[0m\u001b[0;34m,\u001b[0m\u001b[0my_pred\u001b[0m\u001b[0;34m,\u001b[0m\u001b[0mzero_division\u001b[0m\u001b[0;34m=\u001b[0m\u001b[0;34m'warn'\u001b[0m\u001b[0;34m)\u001b[0m\u001b[0;34m)\u001b[0m\u001b[0;34m\u001b[0m\u001b[0;34m\u001b[0m\u001b[0m\n\u001b[0;32m---> 19\u001b[0;31m \u001b[0mAUC\u001b[0m\u001b[0;34m=\u001b[0m\u001b[0mroc_auc_score\u001b[0m\u001b[0;34m(\u001b[0m\u001b[0my_train\u001b[0m\u001b[0;34m,\u001b[0m \u001b[0mclf\u001b[0m\u001b[0;34m.\u001b[0m\u001b[0mdecision_function\u001b[0m\u001b[0;34m(\u001b[0m\u001b[0mx_train_nor\u001b[0m\u001b[0;34m)\u001b[0m\u001b[0;34m)\u001b[0m\u001b[0;34m\u001b[0m\u001b[0;34m\u001b[0m\u001b[0m\n\u001b[0m\u001b[1;32m     20\u001b[0m \u001b[0mprint\u001b[0m\u001b[0;34m(\u001b[0m\u001b[0;34m\"AUC =\"\u001b[0m \u001b[0;34m+\u001b[0m\u001b[0mstr\u001b[0m\u001b[0;34m(\u001b[0m\u001b[0mAUC\u001b[0m\u001b[0;34m)\u001b[0m\u001b[0;34m)\u001b[0m\u001b[0;34m\u001b[0m\u001b[0;34m\u001b[0m\u001b[0m\n",
            "\u001b[0;31mAttributeError\u001b[0m: 'MLPClassifier' object has no attribute 'decision_function'"
          ]
        }
      ]
    },
    {
      "cell_type": "code",
      "metadata": {
        "colab": {
          "base_uri": "https://localhost:8080/"
        },
        "id": "ZxjGDvkif6M0",
        "outputId": "19121888-c6d0-4dff-fcec-2f1a477d8cd1"
      },
      "source": [
        "clf=MLPClassifier(activation='relu', alpha=0.0001,\n",
        "                                     batch_size='auto', beta_1=0.9,\n",
        "                                     beta_2=0.999, early_stopping=False,\n",
        "                                     epsilon=1e-08, hidden_layer_sizes=(100,),\n",
        "                                     learning_rate='constant',\n",
        "                                     learning_rate_init=0.001, max_fun=15000,\n",
        "                                     max_iter=100, momentum=0.9,\n",
        "                                     n_iter_no_change=10,\n",
        "                                     nesterovs_momentum=True, power_t=0.5,\n",
        "                                     random_state=1,\n",
        "                                     solver='adam', tol=0.0001,\n",
        "                                     validation_fraction=0.1, verbose=False,\n",
        "                                     warm_start=False).fit(x_train_nor, y_train)\n",
        "y_pred=clf.predict(x_test_nor)\n",
        "print(y_pred)\n",
        "print(clf.score(x_test_nor, y_test))\n",
        "print(clf.score(x_train_nor, y_train))\n",
        "print(classification_report(y_test,y_pred,zero_division='warn'))\n",
        "\n"
      ],
      "execution_count": null,
      "outputs": [
        {
          "output_type": "stream",
          "name": "stdout",
          "text": [
            "[1. 1. 0. 1. 0. 0. 0. 1. 0. 2. 1. 1. 2. 0. 1. 0. 0. 0. 0. 0. 2. 2. 1. 1.\n",
            " 0. 0. 0. 2. 0. 1. 2. 0. 2. 1. 1. 1. 2. 2. 0. 2. 2. 0. 2. 0. 1. 1. 2. 2.\n",
            " 2. 0. 0. 0. 2. 2. 1. 2. 2. 2. 2. 1. 1. 0. 0. 1. 2. 0. 1. 2. 0. 2. 1. 2.\n",
            " 1. 1. 0. 2. 1. 0. 0. 2. 2. 2. 2. 0. 2. 1. 0. 0. 0. 1. 2. 0. 1. 0. 0. 0.\n",
            " 2. 2. 1. 1. 0. 1. 1. 1. 0. 0. 1. 1. 1. 1. 2. 2. 1. 1. 2. 2. 1. 1. 0. 0.\n",
            " 0. 2. 0. 1. 1. 1. 0. 1. 2. 2. 1. 1. 0. 0. 0. 2. 0. 1. 1. 1. 2. 0. 1. 0.\n",
            " 2. 2. 1. 1. 2. 1. 0. 1. 0. 1. 1. 0. 1. 2. 1. 2. 2. 0. 0. 2. 1. 2. 2. 2.\n",
            " 0. 0. 0. 2. 1. 1. 0. 2. 2. 2. 0. 0. 2. 1. 1. 2. 0. 0. 1. 0. 2. 0. 1. 1.\n",
            " 2. 2.]\n",
            "0.9948453608247423\n",
            "1.0\n",
            "              precision    recall  f1-score   support\n",
            "\n",
            "         0.0       1.00      0.99      0.99        67\n",
            "         1.0       0.98      1.00      0.99        65\n",
            "         2.0       1.00      1.00      1.00        62\n",
            "\n",
            "    accuracy                           0.99       194\n",
            "   macro avg       0.99      1.00      0.99       194\n",
            "weighted avg       0.99      0.99      0.99       194\n",
            "\n"
          ]
        },
        {
          "output_type": "stream",
          "name": "stderr",
          "text": [
            "/usr/local/lib/python3.7/dist-packages/sklearn/neural_network/_multilayer_perceptron.py:571: ConvergenceWarning: Stochastic Optimizer: Maximum iterations (100) reached and the optimization hasn't converged yet.\n",
            "  % self.max_iter, ConvergenceWarning)\n"
          ]
        }
      ]
    },
    {
      "cell_type": "code",
      "metadata": {
        "colab": {
          "base_uri": "https://localhost:8080/",
          "height": 295
        },
        "id": "iuTgBBU0lRzD",
        "outputId": "e9417305-d3d2-4f1f-e80b-0edff2e47107"
      },
      "source": [
        "from sklearn.metrics import roc_auc_score\n",
        "n_classes=y.shape(1)\n",
        "# First aggregate all false positive rates\n",
        "all_fpr = np.unique(np.concatenate([fpr[i] for i in range(n_classes)]))\n",
        "\n",
        "# Then interpolate all ROC curves at this points\n",
        "mean_tpr = np.zeros_like(all_fpr)\n",
        "for i in range(n_classes):\n",
        "    mean_tpr += interp(all_fpr, fpr[i], tpr[i])\n",
        "\n",
        "# Finally average it and compute AUC\n",
        "mean_tpr /= n_classes\n",
        "\n",
        "fpr[\"macro\"] = all_fpr\n",
        "tpr[\"macro\"] = mean_tpr\n",
        "roc_auc[\"macro\"] = auc(fpr[\"macro\"], tpr[\"macro\"])\n",
        "\n",
        "# Plot all ROC curves\n",
        "plt.figure()\n",
        "plt.plot(fpr[\"micro\"], tpr[\"micro\"],\n",
        "         label='micro-average ROC curve (area = {0:0.2f})'\n",
        "               ''.format(roc_auc[\"micro\"]),\n",
        "         color='deeppink', linestyle=':', linewidth=4)\n",
        "\n",
        "plt.plot(fpr[\"macro\"], tpr[\"macro\"],\n",
        "         label='macro-average ROC curve (area = {0:0.2f})'\n",
        "               ''.format(roc_auc[\"macro\"]),\n",
        "         color='navy', linestyle=':', linewidth=4)\n",
        "\n",
        "colors = cycle(['aqua', 'darkorange', 'cornflowerblue'])\n",
        "for i, color in zip(range(n_classes), colors):\n",
        "    plt.plot(fpr[i], tpr[i], color=color, lw=lw,\n",
        "             label='ROC curve of class {0} (area = {1:0.2f})'\n",
        "             ''.format(i, roc_auc[i]))\n",
        "\n",
        "plt.plot([0, 1], [0, 1], 'k--', lw=lw)\n",
        "plt.xlim([0.0, 1.0])\n",
        "plt.ylim([0.0, 1.05])\n",
        "plt.xlabel('False Positive Rate')\n",
        "plt.ylabel('True Positive Rate')\n",
        "plt.title('Some extension of Receiver operating characteristic to multi-class')\n",
        "plt.legend(loc=\"lower right\")\n",
        "plt.show()\n"
      ],
      "execution_count": null,
      "outputs": [
        {
          "output_type": "display_data",
          "data": {
            "image/png": "[encoded data removed]",
            "text/plain": [
              "<Figure size 432x288 with 1 Axes>"
            ]
          },
          "metadata": {
            "needs_background": "light"
          }
        }
      ]
    },
    {
      "cell_type": "code",
      "metadata": {
        "colab": {
          "base_uri": "https://localhost:8080/"
        },
        "id": "pXso27IGrZYA",
        "outputId": "febe8a7a-bf79-4c6c-e0ba-1756bca855a5"
      },
      "source": [
        "from sklearn.model_selection import train_test_split, GridSearchCV, RandomizedSearchCV\n",
        "\n",
        "#we can use a grid search to find the best parameters\n",
        "k=np.random.randint(1,50,60)\n",
        "\n",
        "#define the list of parameters for the model\n",
        "parameter_space = parameter_space = {\n",
        "    'hidden_layer_sizes': [(10,30,10),(128,64,16),(256,128,32),(64,64,64,16),(20,)],\n",
        "    'activation': ['tanh', 'relu'],\n",
        "    'solver': ['sgd', 'adam'],\n",
        "    'alpha': [0.0001, 0.05],\n",
        "    'learning_rate': ['constant','adaptive'],\n",
        "}\n",
        "\n",
        "#we can build gridsearch model using above parameter\n",
        "random_search = RandomizedSearchCV(clf,parameter_space,n_iter=5, cv=5, n_jobs = -1, verbose=0)\n",
        "random_search.fit(x_train, y_train)\n",
        "\n",
        "print(\"train score:\" + str(random_search.score(x_train,y_train)))\n",
        "print(\"test score:\" + str(random_search.score(x_test, y_test)))\n",
        "\n",
        "print(\"best score****:\")\n",
        "print(random_search.best_score_)\n",
        "print(\"best parameters:\")\n",
        "print(random_search.best_params_)\n",
        "print(\"best estimator:\")\n",
        "print(random_search.best_estimator_)"
      ],
      "execution_count": null,
      "outputs": [
        {
          "output_type": "stream",
          "name": "stdout",
          "text": [
            "tarin score:0.7148387096774194\n",
            "test score:0.39690721649484534\n",
            "best score****:\n",
            "0.4193548387096774\n",
            "best parameters:\n",
            "{'solver': 'adam', 'learning_rate': 'adaptive', 'hidden_layer_sizes': (256, 128, 32), 'alpha': 0.05, 'activation': 'tanh'}\n",
            "best estimator:\n",
            "MLPClassifier(activation='tanh', alpha=0.05, batch_size='auto', beta_1=0.9,\n",
            "              beta_2=0.999, early_stopping=False, epsilon=1e-08,\n",
            "              hidden_layer_sizes=(256, 128, 32), learning_rate='adaptive',\n",
            "              learning_rate_init=0.001, max_fun=15000, max_iter=100,\n",
            "              momentum=0.9, n_iter_no_change=10, nesterovs_momentum=True,\n",
            "              power_t=0.5, random_state=1, shuffle=True, solver='adam',\n",
            "              tol=0.0001, validation_fraction=0.1, verbose=False,\n",
            "              warm_start=False)\n"
          ]
        }
      ]
    },
    {
      "cell_type": "code",
      "metadata": {
        "id": "KLv9I6Ysio7l"
      },
      "source": [
        "random_search = RandomizedSearchCV(classifier,params,n_iter=5, cv=10, n_jobs = -1, verbose=0)\n",
        "random_search.fit(X_train, y_train)\n",
        "\n",
        "print(\"tarin score:\" + str(random_search.score(X_train,y_train)))\n",
        "print(\"test score:\" + str(random_search.score(X_test, y_test)))\n",
        "\n",
        "print(\"best score****:\")\n",
        "print(random_search.best_score_)\n",
        "print(\"best parameters:\")\n",
        "print(random_search.best_params_)\n",
        "print(\"best estimator:\")\n",
        "print(random_search.best_estimator_)"
      ],
      "execution_count": null,
      "outputs": []
    },
    {
      "cell_type": "code",
      "metadata": {
        "id": "hO8qa8ZLehB1"
      },
      "source": [
        "parameter_space = {\n",
        "    'hidden_layer_sizes': [(10,30,10),(20,)],\n",
        "    'activation': ['tanh', 'relu'],\n",
        "    'solver': ['sgd', 'adam'],\n",
        "    'alpha': [0.0001, 0.05],\n",
        "    'learning_rate': ['constant','adaptive'],\n",
        "}"
      ],
      "execution_count": null,
      "outputs": []
    },
    {
      "cell_type": "code",
      "metadata": {
        "colab": {
          "base_uri": "https://localhost:8080/"
        },
        "id": "XSw_SW3KeXja",
        "outputId": "c6b9f1a6-9cbe-4cf3-e591-cffa3fdff9b2"
      },
      "source": [
        "from sklearn.model_selection import GridSearchCV\n",
        "clf_cv = GridSearchCV(mlp_gs, parameter_space, n_jobs=-1, cv=10)\n",
        "clf_cv.fit(x, y) # X is train samples and y is the corresponding l"
      ],
      "execution_count": null,
      "outputs": [
        {
          "output_type": "stream",
          "name": "stderr",
          "text": [
            "/usr/local/lib/python3.7/dist-packages/sklearn/neural_network/_multilayer_perceptron.py:571: ConvergenceWarning: Stochastic Optimizer: Maximum iterations (100) reached and the optimization hasn't converged yet.\n",
            "  % self.max_iter, ConvergenceWarning)\n"
          ]
        },
        {
          "output_type": "execute_result",
          "data": {
            "text/plain": [
              "GridSearchCV(cv=10, error_score=nan,\n",
              "             estimator=MLPClassifier(activation='relu', alpha=0.0001,\n",
              "                                     batch_size='auto', beta_1=0.9,\n",
              "                                     beta_2=0.999, early_stopping=False,\n",
              "                                     epsilon=1e-08, hidden_layer_sizes=(100,),\n",
              "                                     learning_rate='constant',\n",
              "                                     learning_rate_init=0.001, max_fun=15000,\n",
              "                                     max_iter=100, momentum=0.9,\n",
              "                                     n_iter_no_change=10,\n",
              "                                     nesterovs_momentum=True, power_t=0.5,\n",
              "                                     random_stat...\n",
              "                                     solver='adam', tol=0.0001,\n",
              "                                     validation_fraction=0.1, verbose=False,\n",
              "                                     warm_start=False),\n",
              "             iid='deprecated', n_jobs=-1,\n",
              "             param_grid={'activation': ['tanh', 'relu'],\n",
              "                         'alpha': [0.0001, 0.05],\n",
              "                         'hidden_layer_sizes': [(10, 30, 10), (20,)],\n",
              "                         'learning_rate': ['constant', 'adaptive'],\n",
              "                         'solver': ['sgd', 'adam']},\n",
              "             pre_dispatch='2*n_jobs', refit=True, return_train_score=False,\n",
              "             scoring=None, verbose=0)"
            ]
          },
          "metadata": {},
          "execution_count": 52
        }
      ]
    },
    {
      "cell_type": "code",
      "metadata": {
        "colab": {
          "base_uri": "https://localhost:8080/",
          "height": 307
        },
        "id": "311pFQOUW0cI",
        "outputId": "5571596c-1db3-4615-f5b9-280a05b990e8"
      },
      "source": [
        "fig=plot_confusion_matrix(clf, x_test_nor, y_test,display_labels=[\"0\",\"1\",\"2\"])\n",
        "fig.figure_.suptitle(\"Confusion Matrix for HRV Dataset\")\n",
        "plt.show()"
      ],
      "execution_count": null,
      "outputs": [
        {
          "output_type": "display_data",
          "data": {
            "image/png": "[encoded data removed]",
            "text/plain": [
              "<Figure size 432x288 with 2 Axes>"
            ]
          },
          "metadata": {
            "needs_background": "light"
          }
        }
      ]
    },
    {
      "cell_type": "markdown",
      "metadata": {
        "id": "7Cfyw_eRXUN9"
      },
      "source": [
        "# **Naive Bayes**"
      ]
    },
    {
      "cell_type": "code",
      "metadata": {
        "colab": {
          "base_uri": "https://localhost:8080/"
        },
        "id": "nMw56kgQXN3u",
        "outputId": "6f8e1016-f963-4c90-c587-b0b7a4180ade"
      },
      "source": [
        "from sklearn.naive_bayes import GaussianNB\n",
        "gnb = GaussianNB()\n",
        "gnb.fit(x_train_nor, y_train)\n"
      ],
      "execution_count": null,
      "outputs": [
        {
          "output_type": "execute_result",
          "data": {
            "text/plain": [
              "GaussianNB()"
            ]
          },
          "metadata": {},
          "execution_count": 27
        }
      ]
    },
    {
      "cell_type": "code",
      "metadata": {
        "id": "dQRoRKzfXucb",
        "colab": {
          "base_uri": "https://localhost:8080/"
        },
        "outputId": "aa1677eb-4242-4fb2-8a71-60e36357ce93"
      },
      "source": [
        "y_pred = gnb.predict(x_train_nor)\n",
        "\n",
        "AUC=roc_auc_score(y_train, clf.predict_proba(x_train_nor), multi_class='ovr',average='weighted')\n",
        "print(\"AUC =\" + str(AUC))"
      ],
      "execution_count": null,
      "outputs": [
        {
          "output_type": "stream",
          "name": "stdout",
          "text": [
            "AUC =0.915919045946238\n"
          ]
        }
      ]
    },
    {
      "cell_type": "code",
      "metadata": {
        "id": "pqBZZQJl0AnT"
      },
      "source": [
        ""
      ],
      "execution_count": null,
      "outputs": []
    }
  ]
}